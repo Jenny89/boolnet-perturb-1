{
 "cells": [
  {
   "cell_type": "markdown",
   "metadata": {},
   "source": [
    "# Robustness and Plasticity in Regulatory Networks\n",
    "\n",
    "* [Introduction](./RPRN-Introduction.ipynb)\n",
    "* [BoolNet](./RPRN-BoolNet.ipynb)\n",
    "* [Functions](./RPRN-Functions.ipynb)\n",
    "* [Updating](#Updating)\n",
    "    * [Synchronous vs asynchronous](#Synchronous-vs-asynchronous)\n",
    "* [States](./RPRN-States.ipynb)\n",
    "* [Appendix](./RPRN-Appendix.ipynb)"
   ]
  },
  {
   "cell_type": "markdown",
   "metadata": {},
   "source": [
    "# Updating"
   ]
  },
  {
   "cell_type": "markdown",
   "metadata": {},
   "source": [
    "## Synchronous vs asynchronous\n",
    "\n",
    "In a discrete regulatory network the value of a node $n$ in $t+1$ is a function of the values of its regulators in the time $t. However, we can [update the value of the nodes in different ways](http://www.biorxiv.org/content/biorxiv/early/2014/10/19/010504.full.pdf). The two most common are synchronous -where all nodes are updated at the same time- and asynchronous -where the nodes are updated one by one.\n",
    "\n",
    "If synchronous updates are used each state the transition space has only one successor. However, if asynchronous updates are used each state the transition space can have more than one successor. Complex attractors depend on the updating policy and are harder and more expensive to compute in the asynchronous case. \n",
    "\n",
    "Biologicaly speaking, synchronous updates supose that all the processes happen at exactly the same time, while asynchronous updates supose that the processes do not."
   ]
  },
  {
   "cell_type": "markdown",
   "metadata": {},
   "source": [
    "We can obtain the attrators using synchronous and the asynchronous updates with BoolNet. First, lets call BoolNet and create a network using the Th17/iTreg model."
   ]
  },
  {
   "cell_type": "code",
   "execution_count": null,
   "metadata": {
    "collapsed": false,
    "scrolled": true
   },
   "outputs": [],
   "source": [
    "library(BoolNet)\n",
    "net <- loadNetwork(\"minTh17iTreg.txt\")\n",
    "net"
   ]
  },
  {
   "cell_type": "markdown",
   "metadata": {},
   "source": [
    "Then, lets compute the synchronous and asynchronous attractors:"
   ]
  },
  {
   "cell_type": "code",
   "execution_count": null,
   "metadata": {
    "collapsed": true
   },
   "outputs": [],
   "source": [
    "attr.sync <- getAttractors(net)\n",
    "attr.async <- getAttractors(net, type=\"asynchronous\")"
   ]
  },
  {
   "cell_type": "markdown",
   "metadata": {},
   "source": [
    "Lets compare the number of attractors obtained with the synchronous and asynchronous method"
   ]
  },
  {
   "cell_type": "code",
   "execution_count": null,
   "metadata": {
    "collapsed": false
   },
   "outputs": [],
   "source": [
    "length(attr.sync$attractors)\n",
    "length(attr.async$attractors)"
   ]
  },
  {
   "cell_type": "markdown",
   "metadata": {},
   "source": [
    "As you can see, the asynchronous method returns less attractors. Lets compare the two attractors lists. In the first place it is neccesary to obtain a list of the states involved in each attractor set."
   ]
  },
  {
   "cell_type": "code",
   "execution_count": null,
   "metadata": {
    "collapsed": false
   },
   "outputs": [],
   "source": [
    "attr.sync.states <- sapply( attr.sync$attractors, function (a) {a$involvedStates})\n",
    "attr.async.states <- sapply( attr.async$attractors, function (a) {a$involvedStates})"
   ]
  },
  {
   "cell_type": "markdown",
   "metadata": {},
   "source": [
    "Lets determine  how many states are present in both, how many only in the synchronous attractors, and how many only in the synchronous attractors."
   ]
  },
  {
   "cell_type": "code",
   "execution_count": null,
   "metadata": {
    "collapsed": false
   },
   "outputs": [],
   "source": [
    "length(intersect(attr.sync.states,attr.async.states))\n",
    "length(setdiff(attr.sync.states,attr.async.states))\n",
    "length(setdiff(attr.async.states,attr.sync.states))"
   ]
  },
  {
   "cell_type": "markdown",
   "metadata": {},
   "source": [
    "As you can see, all the asynchronous attractors are also in the synchronous attractors, but the reverse is not true. In particular, most cycles tend to dissapear in the asynchronous case."
   ]
  },
  {
   "cell_type": "markdown",
   "metadata": {},
   "source": [
    "Lets see the attractors in the intersecion."
   ]
  },
  {
   "cell_type": "code",
   "execution_count": null,
   "metadata": {
    "collapsed": false
   },
   "outputs": [],
   "source": [
    "intersect(attr.sync.states,attr.async.states)"
   ]
  },
  {
   "cell_type": "markdown",
   "metadata": {},
   "source": [
    "Lets see the attractors that belong only to the synchronous case, this are the attractors we lost in the asynchronous update."
   ]
  },
  {
   "cell_type": "code",
   "execution_count": null,
   "metadata": {
    "collapsed": false
   },
   "outputs": [],
   "source": [
    "setdiff(attr.sync.states,attr.async.states)"
   ]
  },
  {
   "cell_type": "markdown",
   "metadata": {},
   "source": [
    "As we can see, cycles -and some of the steady state- where not robust to the update schema."
   ]
  },
  {
   "cell_type": "markdown",
   "metadata": {},
   "source": [
    "However, using asynchronous updates complicates determining the size of the basin of attraction. In asynchronous updating is used a initial state can reach two different attractors depending of the trajectory,  which makes it possible to determine the basin of attraction. (It is possible to estimate the asynchronous basin of attraction with random walks.)"
   ]
  },
  {
   "cell_type": "code",
   "execution_count": null,
   "metadata": {
    "collapsed": false,
    "scrolled": true
   },
   "outputs": [],
   "source": [
    "attr.sync$attractors[[23]]\n",
    "attr.async$attractors[[20]]"
   ]
  },
  {
   "cell_type": "markdown",
   "metadata": {},
   "source": [
    "Synchronous updates are deterministic, this means each state has only one sucessor. However, in asynchoronous updates, states can have more than one sucessor, which makes it hard to determine the basin size. This can complicate the analysis of the system and add computational time. It is for this reason that synchronous updating is usually used.\n",
    "\n",
    "Asynchronous updates usually result in less attractors, however, all the attractors present in the asynchronous update will be present in the synchronous. It is important to check the asynchronous attractors as complex attractors -specially cyclic attractors- are not robust to the update method and may not occur in biological systems that are asynchronous."
   ]
  },
  {
   "cell_type": "markdown",
   "metadata": {},
   "source": [
    "# Next\n",
    "\n",
    "* [Introduction](./RPRN-Introduction.ipynb)\n",
    "* [BoolNet](./RPRN-BoolNet.ipynb)\n",
    "* [Functions](./RPRN-Functions.ipynb)\n",
    "* Updating\n",
    "* [States](./RPRN-States.ipynb)\n",
    "* [Appendix](./RPRN-Appendix.ipynb)"
   ]
  }
 ],
 "metadata": {
  "kernelspec": {
   "display_name": "R",
   "language": "R",
   "name": "ir"
  },
  "language_info": {
   "codemirror_mode": "r",
   "file_extension": ".r",
   "mimetype": "text/x-r-source",
   "name": "R",
   "pygments_lexer": "r",
   "version": "3.2.2"
  }
 },
 "nbformat": 4,
 "nbformat_minor": 0
}
