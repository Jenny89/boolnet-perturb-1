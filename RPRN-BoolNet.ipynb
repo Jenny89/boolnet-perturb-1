{
 "cells": [
  {
   "cell_type": "markdown",
   "metadata": {},
   "source": [
    "# Robustness and Plasticity in Regulatory Networks\n",
    "\n",
    "* [Introduction](./RPRN-Introduction.ipynb)\n",
    "* [BoolNet](#BoolNet)\n",
    "    * [Network construction](#Network-construction)\n",
    "    * [Attractors](#Attractors)\n",
    "    * [Labeling](#Labeling)\n",
    "* [Functions](./RPRN-Functions.ipynb)\n",
    "* [Updating](./RPRN-Updating.ipynb)\n",
    "* [States](./RPRN-States.ipynb)\n",
    "* [Appendix](./RPRN-Appendix.ipynb)"
   ]
  },
  {
   "cell_type": "markdown",
   "metadata": {},
   "source": [
    "# BoolNet"
   ]
  },
  {
   "cell_type": "markdown",
   "metadata": {},
   "source": [
    "Once a regulatory network has been constructed there exist [multiple tools](http://www.colomoto.org/software/) to analyse it. In this tutorial we will focus in the R package [Boolnet](https://cran.r-project.org/web/packages/BoolNet/index.html).\n",
    "\n",
    "It is possible to combine the different software tools to make a better analysis, the standar format for saving a logical regulatory network is [SBML-qual](http://www.colomoto.org/formats/sbml-qual.html) (see the [Appendix](./RPRN-Appendix.ipynb) for more information).\n",
    "\n",
    "Sometimes it is useful to [simplify the network](http://ginsim.org/ginsim-doc/current/algo-reduction.html). "
   ]
  },
  {
   "cell_type": "markdown",
   "metadata": {},
   "source": [
    "## Network construction"
   ]
  },
  {
   "cell_type": "markdown",
   "metadata": {},
   "source": [
    "The interactions of a biological system can be expressed as a set of logical functions using multiple formalisms ([Boolean functions](https://en.wikipedia.org/wiki/Boolean_function), [truth tables](https://en.wikipedia.org/wiki/Truth_table), [Binary Decision Diagrams](https://en.wikipedia.org/wiki/Binary_decision_diagram)). BoolNet accepts a set of boolean functions."
   ]
  },
  {
   "cell_type": "markdown",
   "metadata": {},
   "source": [
    "For examplet the Th17/iTreg network can be expressed as a set of boolean functions obtained from the known interactions among the cytokines and transcription factors.\n",
    "\n",
    ">targets, functions\n",
    "\n",
    ">IL2, (IL2e | (IL2 &  ! FOXP3)) &  ! (STAT3 | (IL10 & ! FOXP3))\n",
    "\n",
    ">RORGT, (STAT3 & TGFB) &  ! FOXP3\n",
    "\n",
    ">STAT3, (IL21e | STAT3 | RORGT) &  ! (IL10 | IL2)\n",
    "\n",
    ">FOXP3, (IL2 & (TGFB | FOXP3)) &  ! (STAT3 | RORGT)\n",
    "\n",
    ">TGFB, TGFBe | ((TGFB | FOXP3) &  ! STAT3 )\n",
    "\n",
    ">IL10, IL10e | (IL10 & (STAT3 | TGFB))"
   ]
  },
  {
   "cell_type": "markdown",
   "metadata": {},
   "source": [
    "First, we will load BoolNet"
   ]
  },
  {
   "cell_type": "code",
   "execution_count": null,
   "metadata": {
    "collapsed": false
   },
   "outputs": [],
   "source": [
    "#Uncomment next line if you haven't installed BoolNet\n",
    "#install.packages(\"BoolNet\", repos='http://cran.us.r-project.org')\n",
    "library(BoolNet)\n",
    "source(\"BoolNet-extensions.R\")"
   ]
  },
  {
   "cell_type": "markdown",
   "metadata": {},
   "source": [
    "Boolnet creates a network object with the function __loadNetwork()__. This function accepts the filename of the file with the rules. In this case we will create the file from the notebook."
   ]
  },
  {
   "cell_type": "code",
   "execution_count": null,
   "metadata": {
    "collapsed": true
   },
   "outputs": [],
   "source": [
    "fileConn<-file(\"minTh17iTreg.txt\")\n",
    "writeLines(c(\n",
    "    \"targets, functions\",\n",
    "    \"IL2, (IL2e | (IL2 &  ! FOXP3)) &  ! (STAT3 | (IL10 & ! FOXP3))\",\n",
    "    \"RORGT, (STAT3 & TGFB) &  ! FOXP3\",\n",
    "    \"STAT3, (IL21e | STAT3 | RORGT) &  ! (IL10 | IL2)\",\n",
    "    \"FOXP3, (IL2 & (TGFB | FOXP3)) &  ! (STAT3 | RORGT)\",\n",
    "    \"TGFB, TGFBe | ((TGFB | FOXP3) &  ! STAT3 )\",\n",
    "    \"IL10, IL10e | (IL10 & (STAT3 | TGFB))\", \n",
    "    \"IL2e, IL2e\",\n",
    "    \"IL21e, IL21e\",\n",
    "    \"TGFBe, TGFBe\",\n",
    "    \"IL10e, IL10e\"\n",
    "    ), fileConn)\n",
    "close(fileConn)"
   ]
  },
  {
   "cell_type": "markdown",
   "metadata": {},
   "source": [
    "Now we can create a network object. If you don't specify a node BoolNet will raise a warning and asumme it is an input. The resulting network should have ten nodes."
   ]
  },
  {
   "cell_type": "code",
   "execution_count": null,
   "metadata": {
    "collapsed": false
   },
   "outputs": [],
   "source": [
    "net <- loadNetwork(\"minTh17iTreg.txt\")\n",
    "net"
   ]
  },
  {
   "cell_type": "markdown",
   "metadata": {},
   "source": [
    "The result is a network object. This object structure is:\n",
    "* __network__\n",
    "    * __\\$interactions__ : list of nodes where each node has its functions represented as truth tables. (Use iterator or [[n]] to examine each node)\n",
    "        * __\\$input__ : index of regulators\n",
    "        * __\\$func__ : function as truth table\n",
    "        * __\\$expression__ : Boolean function as string\n",
    "    * __\\$genes__ : ordered node names\n",
    "    * __\\$fixed__ : which nodes have fixed values (see [Functions](./RPRN-Functions.ipynb))"
   ]
  },
  {
   "cell_type": "code",
   "execution_count": null,
   "metadata": {
    "collapsed": false
   },
   "outputs": [],
   "source": [
    "net$interactions[[1]]\n",
    "net$genes\n",
    "net$fixed"
   ]
  },
  {
   "cell_type": "markdown",
   "metadata": {},
   "source": [
    "## Attractors"
   ]
  },
  {
   "cell_type": "markdown",
   "metadata": {},
   "source": [
    "[//]: # (As the state of the network is updated using the functions, the network will reach a previously visited state called an attractor. The set of states that lead to an attractor is called the basin of the attractor [Fig1 C] \\cite{Gerherson2004}.)\n",
    "\n",
    "Attractors represent stable states in the dynamics of the network and have been related to cell types or  biological processes like the cell cycle. \n",
    "\n",
    "The number of possible states and the complexity of finding the attractors grows exponentially with the number of nodes. It is possible efficiently find the stable states [without simulations](http://ginsim.org/documentation) and using [model checking](http://dl.acm.org/citation.cfm?id=2014689). \n",
    "\n",
    "The attractors we obtain can be affected by the [updating method](./RPRN-Updating.ipynb) (synchronus or asynchronous)."
   ]
  },
  {
   "cell_type": "markdown",
   "metadata": {},
   "source": [
    "BoolNet uses the function __getAttractors()__ to obtain the attractors of the network. This function has a lot of options that can be checked in the documentation."
   ]
  },
  {
   "cell_type": "code",
   "execution_count": null,
   "metadata": {
    "collapsed": false
   },
   "outputs": [],
   "source": [
    "?getAttractors"
   ]
  },
  {
   "cell_type": "markdown",
   "metadata": {},
   "source": [
    "Here, we will use the default options"
   ]
  },
  {
   "cell_type": "code",
   "execution_count": null,
   "metadata": {
    "collapsed": false
   },
   "outputs": [],
   "source": [
    "attr <- getAttractors(net)\n",
    "attr"
   ]
  },
  {
   "cell_type": "markdown",
   "metadata": {},
   "source": [
    "The result is an attractor object. States are saved as an integer. This object structure can change depending of the options used. The general structure is:\n",
    "* __attractor__\n",
    "    * __\\$stateInfo__ : information of the simulation, evaluated states and transition table\n",
    "        * __\\$table__,  __\\$attractorAssignment__,  __\\$stepsToAttractor__,  __\\$initialStates__,  __\\$genes__,  __\\$fixedGenes__,  \n",
    "    * __\\attractors$__ : list of attractors. (Use iterator or [[n]] to examine each node)\n",
    "        * __\\$involvedStates__ : states that make the attractor\n",
    "        * __\\$basinSize__ : states that reach the attractor"
   ]
  },
  {
   "cell_type": "code",
   "execution_count": null,
   "metadata": {
    "collapsed": false
   },
   "outputs": [],
   "source": [
    "attr$attractors[[58]]"
   ]
  },
  {
   "cell_type": "markdown",
   "metadata": {},
   "source": [
    "We can plot them using __plotAttractors()__"
   ]
  },
  {
   "cell_type": "code",
   "execution_count": null,
   "metadata": {
    "collapsed": false
   },
   "outputs": [],
   "source": [
    "plotAttractors(attr)"
   ]
  },
  {
   "cell_type": "markdown",
   "metadata": {},
   "source": [
    "We can create a dataframe including only the state and the basin size. However, there are some attractors that have more than one state, which can complicate the process. To solve this we will use the function __attractor2dataframe()__ that transforms the attractors to dataframes. As we can have cyclic states this function will convert the to characters and join them with \"\\\"."
   ]
  },
  {
   "cell_type": "code",
   "execution_count": null,
   "metadata": {
    "collapsed": false,
    "scrolled": true
   },
   "outputs": [],
   "source": [
    "attr.df <- attractor2dataframe(attr) \n",
    "attr.df"
   ]
  },
  {
   "cell_type": "markdown",
   "metadata": {},
   "source": [
    "It would also be useful to have the attractors in 0s and 1s format and know the gene names. Lets make a function for this"
   ]
  },
  {
   "cell_type": "code",
   "execution_count": null,
   "metadata": {
    "collapsed": false,
    "scrolled": false
   },
   "outputs": [],
   "source": [
    "dec2binState <- function(x, genes){ \n",
    "    state <- as.integer( intToBits(x)[1:length(genes)] )  \n",
    "    names(state) <- genes\n",
    "    state\n",
    "    }"
   ]
  },
  {
   "cell_type": "markdown",
   "metadata": {},
   "source": [
    "Using this function we can analyze the active nodes in a state. For example, the attractor 58:"
   ]
  },
  {
   "cell_type": "code",
   "execution_count": null,
   "metadata": {
    "collapsed": false,
    "scrolled": true
   },
   "outputs": [],
   "source": [
    "bin.states <- lapply (attr$attractors[[58]]$involvedStates, \n",
    "                      dec2binState, net$genes)\n",
    "bin.states"
   ]
  },
  {
   "cell_type": "markdown",
   "metadata": {},
   "source": [
    "## Labeling"
   ]
  },
  {
   "cell_type": "markdown",
   "metadata": {},
   "source": [
    "Attractors correspond to cell types. It is very important to verify that all the expected cell types appear in our attractors, if they are not present we might be missing interactions. It is also important to see if there are attractors that do not correspond to known cell types, as they may be predictions or show errors in the construction of the network.\n",
    "\n",
    "However, when there are a lot of inputs, it is possible that many attractors correspond to a single cell type that can be found in different environments (we will discuss this further). To solve this problem we will label our attractors according to a set of rules."
   ]
  },
  {
   "cell_type": "markdown",
   "metadata": {},
   "source": [
    "In the case of the Th17/iTreg network this rules are:\n",
    "\n",
    ">labels,  rules\n",
    "\n",
    ">Th0,   ! (RORGT | FOXP3 | TGFB | IL10)\n",
    "\n",
    ">Th17,  RORgt & STAT3\n",
    "\n",
    ">iTreg, FOXP3 & TGFB\n",
    "\n",
    ">IL10+, IL10 & ! (RORGT | FOXP3 | TGFB)\n",
    "\n",
    ">TGFB+, TGFB & ! (RORGT | FOXP3 | TGFB)\n",
    "\n",
    ">IL10+TGFB+, (TGFB & IL10) & ! (RORGT | FOXP3)"
   ]
  },
  {
   "cell_type": "code",
   "execution_count": null,
   "metadata": {
    "collapsed": false
   },
   "outputs": [],
   "source": [
    "labels.rules <- data.frame(\n",
    "    labels = c('Th0', 'Th17', 'Treg', 'IL10+', 'TGFB+'),\n",
    "    rules  = c('!(RORGT | FOXP3 | TGFB | IL10)', \n",
    "            'RORGT & STAT3', \n",
    "            'FOXP3 & TGFB', \n",
    "            'IL10', \n",
    "            'TGFB & ! (RORGT | FOXP3)' ),\n",
    "    stringsAsFactors = FALSE\n",
    ")\n",
    "labels.rules"
   ]
  },
  {
   "cell_type": "markdown",
   "metadata": {},
   "source": [
    "For each rule we can write a function that evaluates  the nodes. For example, for the rule __Th0__ we could write the following rule:"
   ]
  },
  {
   "cell_type": "code",
   "execution_count": null,
   "metadata": {
    "collapsed": false
   },
   "outputs": [],
   "source": [
    "ruleTh0 <- function(\n",
    "    IL2, RORGT, STAT3, FOXP3, TGFB, IL10, IL2e, IL21e, TGFBe, IL10e\n",
    "    ) { \n",
    "    if (!(RORGT | FOXP3 | TGFB | IL10)) 'Th0' \n",
    "}"
   ]
  },
  {
   "cell_type": "markdown",
   "metadata": {},
   "source": [
    "We can use this function with a binary state. For examplem the state 0 (0,0,0,0,0,0,0,0,0,0) has the label \"Th0\", but the state 121 (1,0,0,1,1,1,1,,0,0,0) does not."
   ]
  },
  {
   "cell_type": "code",
   "execution_count": null,
   "metadata": {
    "collapsed": false
   },
   "outputs": [],
   "source": [
    "label <- ruleTh0(0,0,0,0,0,0,0,0,0,0)\n",
    "label\n",
    "state <- ruleTh0(1,0,0,1,1,1,1,0,0,0)\n",
    "state"
   ]
  },
  {
   "cell_type": "markdown",
   "metadata": {},
   "source": [
    "We can also give the function a list of named arguments using __do.call()__, this way the function can receive the state obtained from __dec2binState()__."
   ]
  },
  {
   "cell_type": "code",
   "execution_count": null,
   "metadata": {
    "collapsed": false
   },
   "outputs": [],
   "source": [
    "state <- attr$attractors[[1]]$involvedStates\n",
    "state <- dec2binState(state, net$genes)\n",
    "#state\n",
    "label <- do.call(ruleTh0, as.list(state))\n",
    "label"
   ]
  },
  {
   "cell_type": "markdown",
   "metadata": {},
   "source": [
    "While we could create specific functions for each labeling rule, it is better to make a general function that can interpret our rules. \n",
    "The function __labelState()__ takes a binary state with gene names, a set of labels and the rules as strings and returns a label."
   ]
  },
  {
   "cell_type": "code",
   "execution_count": null,
   "metadata": {
    "collapsed": false
   },
   "outputs": [],
   "source": [
    "state <- dec2binState(121, net$genes)\n",
    "#state\n",
    "label <- labelState(state, net$genes, labels.rules$labels, labels.rules$rules)\n",
    "label"
   ]
  },
  {
   "cell_type": "markdown",
   "metadata": {},
   "source": [
    "Using this method it is possible to label all the states involved in an attractor. The function __labelAttractors()__ takes an attractors object created by BoolNet and returns a list of the labels for each attractor in order. If an attractor has multiple states it will return a label for each state.\n",
    "\n",
    "Lets obtain the labels of all the attractors using the function __labelAttractors()__."
   ]
  },
  {
   "cell_type": "code",
   "execution_count": null,
   "metadata": {
    "collapsed": false,
    "scrolled": true
   },
   "outputs": [],
   "source": [
    "labels <- labelAttractors(attr, net$genes, labels.rules$labels, labels.rules$rules)\n",
    "labels"
   ]
  },
  {
   "cell_type": "markdown",
   "metadata": {},
   "source": [
    "We will add the labels to the dataframe we created with __attractor2dataframe()__. To do this we will need to join the labels of the attractors that have more than one state with \"/\"."
   ]
  },
  {
   "cell_type": "code",
   "execution_count": null,
   "metadata": {
    "collapsed": false,
    "scrolled": true
   },
   "outputs": [],
   "source": [
    "attr.df$label <- sapply(labels, function(label) {\n",
    "    paste(as.character(label), collapse='/')\n",
    "})\n",
    "attr.df\n"
   ]
  },
  {
   "cell_type": "markdown",
   "metadata": {},
   "source": [
    "As we can see some labels have more than one attractor. This is because some cell types can be found in different environments. We can see all the unique labels to determine if all the labels correspond to the expected cell types."
   ]
  },
  {
   "cell_type": "code",
   "execution_count": null,
   "metadata": {
    "collapsed": false
   },
   "outputs": [],
   "source": [
    "unique(attr.df$label)"
   ]
  },
  {
   "cell_type": "markdown",
   "metadata": {},
   "source": [
    "While we have all the expected cell types we have some cycles where one of the states could not be labeled. If we check the dataframe, the states 338 and 466 have no label, we can study them to see what happened."
   ]
  },
  {
   "cell_type": "code",
   "execution_count": null,
   "metadata": {
    "collapsed": false,
    "scrolled": true
   },
   "outputs": [],
   "source": [
    "state.odd.a1 <- dec2binState(338, net$genes)\n",
    "state.odd.a2 <- dec2binState(341, net$genes)\n",
    "state.odd.a1\n",
    "state.odd.a2\n",
    "state.odd.b1 <- dec2binState(466, net$genes)\n",
    "state.odd.b2 <- dec2binState(469, net$genes)\n",
    "state.odd.b1\n",
    "state.odd.b2"
   ]
  },
  {
   "cell_type": "markdown",
   "metadata": {},
   "source": [
    "As we can see this states correspond to oscillations where ROR$\\gamma$t can not stabilish a stable expression. If we use an asynchronous update this states will dissapear. \n",
    "\n",
    "We can create a new rule to include this states.\n",
    "> RORGT+, RORGT & ! STAT3"
   ]
  },
  {
   "cell_type": "code",
   "execution_count": null,
   "metadata": {
    "collapsed": false
   },
   "outputs": [],
   "source": [
    "labels.rules <- rbind(labels.rules, c('RORGT+', 'RORGT & ! STAT3'))\n",
    "labels.rules"
   ]
  },
  {
   "cell_type": "markdown",
   "metadata": {},
   "source": [
    "We will need to do the labeling and the dataframe once more."
   ]
  },
  {
   "cell_type": "code",
   "execution_count": null,
   "metadata": {
    "collapsed": false,
    "scrolled": true
   },
   "outputs": [],
   "source": [
    "labels <- labelAttractors(attr, net$genes, labels.rules$labels, labels.rules$rules)\n",
    "labels <- sapply(labels, function(l) paste(as.character(l), collapse='/'))\n",
    "attr.df$label <- labels\n",
    "attr.df\n"
   ]
  },
  {
   "cell_type": "markdown",
   "metadata": {},
   "source": [
    "Now that all the states are labeled we can also determine which attractor states correspond to each label and the joint size of the basin of attraction of each label."
   ]
  },
  {
   "cell_type": "code",
   "execution_count": null,
   "metadata": {
    "collapsed": false,
    "scrolled": true
   },
   "outputs": [],
   "source": [
    "attractors.by.label <- data.frame(\n",
    "    states = tapply(attr.df$involvedStates, attr.df$label, paste),\n",
    "    basin = tapply(attr.df$basin, attr.df$label, sum)\n",
    ")\n",
    "attractors.by.label"
   ]
  },
  {
   "cell_type": "markdown",
   "metadata": {},
   "source": [
    "This ends the basic BoolNet tutorial."
   ]
  },
  {
   "cell_type": "markdown",
   "metadata": {},
   "source": [
    "# Next\n",
    "\n",
    "* [Introduction](./RPRN-Introduction.ipynb)\n",
    "* BoolNet\n",
    "* [Functions](./RPRN-Functions.ipynb)\n",
    "* [Updating](./RPRN-Updating.ipynb)\n",
    "* [States](./RPRN-States.ipynb)\n",
    "* [Appendix](./RPRN-Appendix.ipynb)"
   ]
  }
 ],
 "metadata": {
  "kernelspec": {
   "display_name": "R",
   "language": "R",
   "name": "ir"
  },
  "language_info": {
   "codemirror_mode": "r",
   "file_extension": ".r",
   "mimetype": "text/x-r-source",
   "name": "R",
   "pygments_lexer": "r",
   "version": "3.2.2"
  }
 },
 "nbformat": 4,
 "nbformat_minor": 0
}
