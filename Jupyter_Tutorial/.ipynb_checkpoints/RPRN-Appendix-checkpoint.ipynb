{
 "cells": [
  {
   "cell_type": "markdown",
   "metadata": {},
   "source": [
    "# Robustness and Plasticity in Regulatory Networks\n",
    "\n",
    "* [Introduction](./RPRN-Introduction.ipynb)\n",
    "* [BoolNet](./RPRN-BoolNet.ipynb)\n",
    "* [Functions](./RPRN-Functions.ipynb)\n",
    "* [Updating](./RPRN-Updating.ipynb)\n",
    "* [States](./RPRN-States.ipynb)\n",
    "* [Appendix](#Appendix)\n",
    "    * [Simulation and model checking](#Simulation-and-model-checking)\n",
    "    * [Importing and exporting with SBML](#Importing-and-exporting-with-SBML)"
   ]
  },
  {
   "cell_type": "markdown",
   "metadata": {},
   "source": [
    "# Appendix"
   ]
  },
  {
   "cell_type": "markdown",
   "metadata": {},
   "source": [
    "## Simulation and model checking"
   ]
  },
  {
   "cell_type": "markdown",
   "metadata": {},
   "source": [
    "## Importing and exporting with SBML"
   ]
  },
  {
   "cell_type": "markdown",
   "metadata": {},
   "source": [
    "# Next\n",
    "\n",
    "* [Introduction](./RPRN-Introduction.ipynb)\n",
    "* [BoolNet](./RPRN-BoolNet.ipynb)\n",
    "* [Functions](./RPRN-Functions.ipynb)\n",
    "* [Updating](./RPRN-Updating.ipynb)\n",
    "* [States](./RPRN-States.ipynb)\n",
    "* Appendix"
   ]
  }
 ],
 "metadata": {
  "kernelspec": {
   "display_name": "R",
   "language": "R",
   "name": "ir"
  },
  "language_info": {
   "codemirror_mode": "r",
   "file_extension": ".r",
   "mimetype": "text/x-r-source",
   "name": "R",
   "pygments_lexer": "r",
   "version": "3.2.2"
  }
 },
 "nbformat": 4,
 "nbformat_minor": 0
}
