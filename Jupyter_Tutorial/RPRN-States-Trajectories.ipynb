{
 "cells": [
  {
   "cell_type": "markdown",
   "metadata": {},
   "source": [
    "# Robustness and Plasticity in Regulatory Networks\n",
    "\n",
    "* [Introduction](./RPRN-Introduction.ipynb)\n",
    "* [BoolNet](./RPRN-BoolNet.ipynb)\n",
    "* [Functions](./RPRN-Functions.ipynb)\n",
    "* [Updating](./RPRN-Updating.ipynb)\n",
    "* [States and trajectories](#States-and-Trajectories)\n",
    "    * [Transient perturbations](#Transient-perturbations)\n",
    "    * [Stochastic noise](#Stochastic-noise)\n",
    "* [Appendix](./RPRN-Appendix.ipynb)"
   ]
  },
  {
   "cell_type": "markdown",
   "metadata": {},
   "source": [
    "# States and Trajectories"
   ]
  },
  {
   "cell_type": "markdown",
   "metadata": {},
   "source": [
    "Until now we have discused perturbations that occur in the functions or the evaluation of the regulatory network. However, once the attractors have been reached, they are subjected to other perturbations in the state of the system. This perturbations do not alter the wiring and updating of the network, but its state. This perturbations are transient, as the functions remain the same, it is only the state that is perturbed for a certain time, affecting its trajectory.\n",
    "\n",
    "Biologicaly, this is equivalent to signals of the environment or intrinsic process of the cell that change the expression of an element for a certain time. For example, most drugs change the micro-environment of the organism while they are ingested, but once the treatment ends the perturbation ends. An other example of transient perturbations in biological systems is stochastic noise.\n",
    "\n",
    "In this tutorial we will use BoolNet functions to study the effect of transiently perturbing the state of the regulatory network. We will also use some of the BoolNet-extensions funtions."
   ]
  },
  {
   "cell_type": "code",
   "execution_count": 1,
   "metadata": {
    "collapsed": true
   },
   "outputs": [],
   "source": [
    "#Uncomment next line if you haven't installed BoolNet\n",
    "#install.packages(\"BoolNet\", repos='http://cran.us.r-project.org')\n",
    "library(BoolNet)\n",
    "library(BoolNetPerturb)"
   ]
  },
  {
   "cell_type": "markdown",
   "metadata": {},
   "source": [
    "## Transient perturbations"
   ]
  },
  {
   "cell_type": "markdown",
   "metadata": {},
   "source": [
    "Once a cell has differentiated, it is subject to a changing intrinsic and extrinsic environment. Intrinsic processes or the signals in the environment, can temporarly change the expression of some of their nodes.\n",
    "\n",
    "A biological example is drugs. While drugs are ingested they alter the micro-environment in specific ways, but once the treatment ends the signal ends. Understanding what happens not only during the treatment, but after, is fundamental for medicine."
   ]
  },
  {
   "cell_type": "markdown",
   "metadata": {},
   "source": [
    "To study the effect We will use the labeled attractors from the Th17/iTreg network."
   ]
  },
  {
   "cell_type": "code",
   "execution_count": 2,
   "metadata": {
    "collapsed": true
   },
   "outputs": [],
   "source": [
    "net <- loadNetwork(\"minTh17iTreg.txt\")\n",
    "attr <- getAttractors(net)\n",
    "attr.df <- attractor2dataframe(attr) "
   ]
  },
  {
   "cell_type": "markdown",
   "metadata": {},
   "source": [
    "We will also need the environments and labeling rules, which can be found in the `BoolNetPerturb` data:"
   ]
  },
  {
   "cell_type": "code",
   "execution_count": 3,
   "metadata": {
    "collapsed": false
   },
   "outputs": [
    {
     "data": {
      "text/html": [
       "<dl>\n",
       "\t<dt>$label</dt>\n",
       "\t\t<dd><ol class=list-inline>\n",
       "\t<li>'All'</li>\n",
       "\t<li>'pro-Th0'</li>\n",
       "\t<li>'pro-Th17'</li>\n",
       "\t<li>'pro-iTreg'</li>\n",
       "\t<li>'pro-IL10'</li>\n",
       "</ol>\n",
       "</dd>\n",
       "\t<dt>$nodes</dt>\n",
       "\t\t<dd><ol>\n",
       "\t<li>NA</li>\n",
       "\t<li><ol class=list-inline>\n",
       "\t<li>'IL2e'</li>\n",
       "\t<li>'IL21e'</li>\n",
       "\t<li>'TGFBe'</li>\n",
       "\t<li>'IL10e'</li>\n",
       "</ol>\n",
       "</li>\n",
       "\t<li><ol class=list-inline>\n",
       "\t<li>'IL2e'</li>\n",
       "\t<li>'IL21e'</li>\n",
       "\t<li>'TGFBe'</li>\n",
       "\t<li>'IL10e'</li>\n",
       "</ol>\n",
       "</li>\n",
       "\t<li><ol class=list-inline>\n",
       "\t<li>'IL2e'</li>\n",
       "\t<li>'IL21e'</li>\n",
       "\t<li>'TGFBe'</li>\n",
       "\t<li>'IL10e'</li>\n",
       "</ol>\n",
       "</li>\n",
       "\t<li><ol class=list-inline>\n",
       "\t<li>'IL2e'</li>\n",
       "\t<li>'IL21e'</li>\n",
       "\t<li>'TGFBe'</li>\n",
       "\t<li>'IL10e'</li>\n",
       "</ol>\n",
       "</li>\n",
       "</ol>\n",
       "</dd>\n",
       "\t<dt>$values</dt>\n",
       "\t\t<dd><ol>\n",
       "\t<li>NA</li>\n",
       "\t<li><ol class=list-inline>\n",
       "\t<li>0</li>\n",
       "\t<li>0</li>\n",
       "\t<li>0</li>\n",
       "\t<li>0</li>\n",
       "</ol>\n",
       "</li>\n",
       "\t<li><ol class=list-inline>\n",
       "\t<li>0</li>\n",
       "\t<li>1</li>\n",
       "\t<li>1</li>\n",
       "\t<li>0</li>\n",
       "</ol>\n",
       "</li>\n",
       "\t<li><ol class=list-inline>\n",
       "\t<li>1</li>\n",
       "\t<li>0</li>\n",
       "\t<li>1</li>\n",
       "\t<li>0</li>\n",
       "</ol>\n",
       "</li>\n",
       "\t<li><ol class=list-inline>\n",
       "\t<li>0</li>\n",
       "\t<li>0</li>\n",
       "\t<li>0</li>\n",
       "\t<li>1</li>\n",
       "</ol>\n",
       "</li>\n",
       "</ol>\n",
       "</dd>\n",
       "</dl>\n"
      ],
      "text/latex": [
       "\\begin{description}\n",
       "\\item[\\$label] \\begin{enumerate*}\n",
       "\\item 'All'\n",
       "\\item 'pro-Th0'\n",
       "\\item 'pro-Th17'\n",
       "\\item 'pro-iTreg'\n",
       "\\item 'pro-IL10'\n",
       "\\end{enumerate*}\n",
       "\n",
       "\\item[\\$nodes] \\begin{enumerate}\n",
       "\\item NA\n",
       "\\item \\begin{enumerate*}\n",
       "\\item 'IL2e'\n",
       "\\item 'IL21e'\n",
       "\\item 'TGFBe'\n",
       "\\item 'IL10e'\n",
       "\\end{enumerate*}\n",
       "\n",
       "\\item \\begin{enumerate*}\n",
       "\\item 'IL2e'\n",
       "\\item 'IL21e'\n",
       "\\item 'TGFBe'\n",
       "\\item 'IL10e'\n",
       "\\end{enumerate*}\n",
       "\n",
       "\\item \\begin{enumerate*}\n",
       "\\item 'IL2e'\n",
       "\\item 'IL21e'\n",
       "\\item 'TGFBe'\n",
       "\\item 'IL10e'\n",
       "\\end{enumerate*}\n",
       "\n",
       "\\item \\begin{enumerate*}\n",
       "\\item 'IL2e'\n",
       "\\item 'IL21e'\n",
       "\\item 'TGFBe'\n",
       "\\item 'IL10e'\n",
       "\\end{enumerate*}\n",
       "\n",
       "\\end{enumerate}\n",
       "\n",
       "\\item[\\$values] \\begin{enumerate}\n",
       "\\item NA\n",
       "\\item \\begin{enumerate*}\n",
       "\\item 0\n",
       "\\item 0\n",
       "\\item 0\n",
       "\\item 0\n",
       "\\end{enumerate*}\n",
       "\n",
       "\\item \\begin{enumerate*}\n",
       "\\item 0\n",
       "\\item 1\n",
       "\\item 1\n",
       "\\item 0\n",
       "\\end{enumerate*}\n",
       "\n",
       "\\item \\begin{enumerate*}\n",
       "\\item 1\n",
       "\\item 0\n",
       "\\item 1\n",
       "\\item 0\n",
       "\\end{enumerate*}\n",
       "\n",
       "\\item \\begin{enumerate*}\n",
       "\\item 0\n",
       "\\item 0\n",
       "\\item 0\n",
       "\\item 1\n",
       "\\end{enumerate*}\n",
       "\n",
       "\\end{enumerate}\n",
       "\n",
       "\\end{description}\n"
      ],
      "text/markdown": [
       "$label\n",
       ":   1. 'All'\n",
       "2. 'pro-Th0'\n",
       "3. 'pro-Th17'\n",
       "4. 'pro-iTreg'\n",
       "5. 'pro-IL10'\n",
       "\n",
       "\n",
       "\n",
       "$nodes\n",
       ":   1. NA\n",
       "2. 1. 'IL2e'\n",
       "2. 'IL21e'\n",
       "3. 'TGFBe'\n",
       "4. 'IL10e'\n",
       "\n",
       "\n",
       "\n",
       "3. 1. 'IL2e'\n",
       "2. 'IL21e'\n",
       "3. 'TGFBe'\n",
       "4. 'IL10e'\n",
       "\n",
       "\n",
       "\n",
       "4. 1. 'IL2e'\n",
       "2. 'IL21e'\n",
       "3. 'TGFBe'\n",
       "4. 'IL10e'\n",
       "\n",
       "\n",
       "\n",
       "5. 1. 'IL2e'\n",
       "2. 'IL21e'\n",
       "3. 'TGFBe'\n",
       "4. 'IL10e'\n",
       "\n",
       "\n",
       "\n",
       "\n",
       "\n",
       "\n",
       "$values\n",
       ":   1. NA\n",
       "2. 1. 0\n",
       "2. 0\n",
       "3. 0\n",
       "4. 0\n",
       "\n",
       "\n",
       "\n",
       "3. 1. 0\n",
       "2. 1\n",
       "3. 1\n",
       "4. 0\n",
       "\n",
       "\n",
       "\n",
       "4. 1. 1\n",
       "2. 0\n",
       "3. 1\n",
       "4. 0\n",
       "\n",
       "\n",
       "\n",
       "5. 1. 0\n",
       "2. 0\n",
       "3. 0\n",
       "4. 1\n",
       "\n",
       "\n",
       "\n",
       "\n",
       "\n",
       "\n",
       "\n",
       "\n"
      ],
      "text/plain": [
       "$label\n",
       "[1] \"All\"       \"pro-Th0\"   \"pro-Th17\"  \"pro-iTreg\" \"pro-IL10\" \n",
       "\n",
       "$nodes\n",
       "$nodes[[1]]\n",
       "[1] NA\n",
       "\n",
       "$nodes[[2]]\n",
       "[1] \"IL2e\"  \"IL21e\" \"TGFBe\" \"IL10e\"\n",
       "\n",
       "$nodes[[3]]\n",
       "[1] \"IL2e\"  \"IL21e\" \"TGFBe\" \"IL10e\"\n",
       "\n",
       "$nodes[[4]]\n",
       "[1] \"IL2e\"  \"IL21e\" \"TGFBe\" \"IL10e\"\n",
       "\n",
       "$nodes[[5]]\n",
       "[1] \"IL2e\"  \"IL21e\" \"TGFBe\" \"IL10e\"\n",
       "\n",
       "\n",
       "$values\n",
       "$values[[1]]\n",
       "[1] NA\n",
       "\n",
       "$values[[2]]\n",
       "[1] 0 0 0 0\n",
       "\n",
       "$values[[3]]\n",
       "[1] 0 1 1 0\n",
       "\n",
       "$values[[4]]\n",
       "[1] 1 0 1 0\n",
       "\n",
       "$values[[5]]\n",
       "[1] 0 0 0 1\n",
       "\n"
      ]
     },
     "execution_count": 3,
     "metadata": {},
     "output_type": "execute_result"
    }
   ],
   "source": [
    "data(environmentsTh17iTreg)\n",
    "environments <- environmentsTh17iTreg\n",
    "environments"
   ]
  },
  {
   "cell_type": "code",
   "execution_count": 4,
   "metadata": {
    "collapsed": false
   },
   "outputs": [
    {
     "data": {
      "text/html": [
       "<table>\n",
       "<thead><tr><th></th><th scope=col>labels</th><th scope=col>rules</th></tr></thead>\n",
       "<tbody>\n",
       "\t<tr><th scope=row>1</th><td>Th0</td><td>!(RORGT | FOXP3 | TGFB | IL10)</td></tr>\n",
       "\t<tr><th scope=row>2</th><td>Th17</td><td>RORGT & STAT3</td></tr>\n",
       "\t<tr><th scope=row>3</th><td>Treg</td><td>FOXP3 & TGFB</td></tr>\n",
       "\t<tr><th scope=row>4</th><td>IL10+</td><td>IL10</td></tr>\n",
       "\t<tr><th scope=row>5</th><td>TGFB+</td><td>TGFB & ! (RORGT | FOXP3)</td></tr>\n",
       "\t<tr><th scope=row>6</th><td>RORGT+</td><td>RORGT & ! STAT3</td></tr>\n",
       "</tbody>\n",
       "</table>\n"
      ],
      "text/latex": [
       "\\begin{tabular}{r|ll}\n",
       "  & labels & rules\\\\\n",
       "\\hline\n",
       "\t1 & Th0 & !(RORGT | FOXP3 | TGFB | IL10)\\\\\n",
       "\t2 & Th17 & RORGT & STAT3\\\\\n",
       "\t3 & Treg & FOXP3 & TGFB\\\\\n",
       "\t4 & IL10+ & IL10\\\\\n",
       "\t5 & TGFB+ & TGFB & ! (RORGT | FOXP3)\\\\\n",
       "\t6 & RORGT+ & RORGT & ! STAT3\\\\\n",
       "\\end{tabular}\n"
      ],
      "text/plain": [
       "  labels                          rules\n",
       "1    Th0 !(RORGT | FOXP3 | TGFB | IL10)\n",
       "2   Th17                  RORGT & STAT3\n",
       "3   Treg                   FOXP3 & TGFB\n",
       "4  IL10+                           IL10\n",
       "5  TGFB+       TGFB & ! (RORGT | FOXP3)\n",
       "6 RORGT+                RORGT & ! STAT3"
      ]
     },
     "execution_count": 4,
     "metadata": {},
     "output_type": "execute_result"
    }
   ],
   "source": [
    "data(labelsRulesTh17iTreg)\n",
    "labels.rules <- labelsRulesTh17iTreg\n",
    "labels.rules"
   ]
  },
  {
   "cell_type": "markdown",
   "metadata": {},
   "source": [
    "Using this we can label the attractors."
   ]
  },
  {
   "cell_type": "code",
   "execution_count": 5,
   "metadata": {
    "collapsed": false,
    "scrolled": true
   },
   "outputs": [
    {
     "data": {
      "text/html": [
       "<table>\n",
       "<thead><tr><th></th><th scope=col>involvedStates</th><th scope=col>basinSize</th><th scope=col>label</th></tr></thead>\n",
       "<tbody>\n",
       "\t<tr><th scope=row>1</th><td>0</td><td>27</td><td>Th0</td></tr>\n",
       "\t<tr><th scope=row>2</th><td>1</td><td>2</td><td>Th0</td></tr>\n",
       "\t<tr><th scope=row>3</th><td>4</td><td>14</td><td>Th0</td></tr>\n",
       "\t<tr><th scope=row>4</th><td>16</td><td>13</td><td>TGFB+</td></tr>\n",
       "\t<tr><th scope=row>5</th><td>48</td><td>8</td><td>IL10+TGFB+</td></tr>\n",
       "\t<tr><th scope=row>6</th><td>65</td><td>35</td><td>Th0</td></tr>\n",
       "\t<tr><th scope=row>7</th><td>68</td><td>8</td><td>Th0</td></tr>\n",
       "\t<tr><th scope=row>8</th><td>89</td><td>13</td><td>Treg</td></tr>\n",
       "\t<tr><th scope=row>9</th><td>112</td><td>3</td><td>IL10+TGFB+</td></tr>\n",
       "\t<tr><th scope=row>10</th><td>121</td><td>1</td><td>TregIL10+</td></tr>\n",
       "\t<tr><th scope=row>11</th><td>132</td><td>54</td><td>Th0</td></tr>\n",
       "\t<tr><th scope=row>12</th><td>129</td><td>2</td><td>Th0</td></tr>\n",
       "\t<tr><th scope=row>13</th><td>176</td><td>8</td><td>IL10+TGFB+</td></tr>\n",
       "\t<tr><th scope=row>14</th><td>193</td><td>2</td><td>Th0</td></tr>\n",
       "\t<tr><th scope=row>15</th><td>196</td><td>8</td><td>Th0</td></tr>\n",
       "\t<tr><th scope=row>16</th><td>217</td><td>10</td><td>Treg</td></tr>\n",
       "\t<tr><th scope=row>17</th><td>240</td><td>3</td><td>IL10+TGFB+</td></tr>\n",
       "\t<tr><th scope=row>18</th><td>249</td><td>1</td><td>TregIL10+</td></tr>\n",
       "\t<tr><th scope=row>19</th><td>272</td><td>26</td><td>TGFB+</td></tr>\n",
       "\t<tr><th scope=row>20</th><td>278</td><td>14</td><td>Th17</td></tr>\n",
       "\t<tr><th scope=row>21</th><td>304</td><td>24</td><td>IL10+TGFB+</td></tr>\n",
       "\t<tr><th scope=row>22</th><td>345</td><td>26</td><td>Treg</td></tr>\n",
       "\t<tr><th scope=row>23</th><td>342</td><td>8</td><td>Th17</td></tr>\n",
       "\t<tr><th scope=row>24</th><td>368</td><td>19</td><td>IL10+TGFB+</td></tr>\n",
       "\t<tr><th scope=row>25</th><td>377</td><td>1</td><td>TregIL10+</td></tr>\n",
       "\t<tr><th scope=row>26</th><td>406</td><td>40</td><td>Th17</td></tr>\n",
       "\t<tr><th scope=row>27</th><td>432</td><td>24</td><td>IL10+TGFB+</td></tr>\n",
       "\t<tr><th scope=row>28</th><td>473</td><td>12</td><td>Treg</td></tr>\n",
       "\t<tr><th scope=row>29</th><td>470</td><td>8</td><td>Th17</td></tr>\n",
       "\t<tr><th scope=row>30</th><td>496</td><td>19</td><td>IL10+TGFB+</td></tr>\n",
       "\t<tr><th scope=row>31</th><td>505</td><td>1</td><td>TregIL10+</td></tr>\n",
       "\t<tr><th scope=row>32</th><td>544</td><td>43</td><td>IL10+</td></tr>\n",
       "\t<tr><th scope=row>33</th><td>560</td><td>21</td><td>IL10+TGFB+</td></tr>\n",
       "\t<tr><th scope=row>34</th><td>608</td><td>43</td><td>IL10+</td></tr>\n",
       "\t<tr><th scope=row>35</th><td>633</td><td>5</td><td>TregIL10+</td></tr>\n",
       "\t<tr><th scope=row>36</th><td>624</td><td>3</td><td>IL10+TGFB+</td></tr>\n",
       "\t<tr><th scope=row>37</th><td>672</td><td>46</td><td>IL10+</td></tr>\n",
       "\t<tr><th scope=row>38</th><td>688</td><td>18</td><td>IL10+TGFB+</td></tr>\n",
       "\t<tr><th scope=row>39</th><td>736</td><td>46</td><td>IL10+</td></tr>\n",
       "\t<tr><th scope=row>40</th><td>761</td><td>5</td><td>TregIL10+</td></tr>\n",
       "\t<tr><th scope=row>41</th><td>752</td><td>3</td><td>IL10+TGFB+</td></tr>\n",
       "\t<tr><th scope=row>42</th><td>816</td><td>64</td><td>IL10+TGFB+</td></tr>\n",
       "\t<tr><th scope=row>43</th><td>880</td><td>43</td><td>IL10+TGFB+</td></tr>\n",
       "\t<tr><th scope=row>44</th><td>889</td><td>5</td><td>TregIL10+</td></tr>\n",
       "\t<tr><th scope=row>45</th><td>944</td><td>64</td><td>IL10+TGFB+</td></tr>\n",
       "\t<tr><th scope=row>46</th><td>1008</td><td>47</td><td>IL10+TGFB+</td></tr>\n",
       "\t<tr><th scope=row>47</th><td>1017</td><td>5</td><td>TregIL10+</td></tr>\n",
       "\t<tr><th scope=row>48</th><td>113/120</td><td>4</td><td>IL10+TGFB+/TregIL10+</td></tr>\n",
       "\t<tr><th scope=row>49</th><td>192/197</td><td>36</td><td>Th0/Th0</td></tr>\n",
       "\t<tr><th scope=row>50</th><td>241/248</td><td>4</td><td>IL10+TGFB+/TregIL10+</td></tr>\n",
       "\t<tr><th scope=row>51</th><td>338/341</td><td>6</td><td>RORGT+/TGFB+</td></tr>\n",
       "\t<tr><th scope=row>52</th><td>369/376</td><td>4</td><td>IL10+TGFB+/TregIL10+</td></tr>\n",
       "\t<tr><th scope=row>53</th><td>466/469</td><td>20</td><td>RORGT+/TGFB+</td></tr>\n",
       "\t<tr><th scope=row>54</th><td>497/504</td><td>4</td><td>IL10+TGFB+/TregIL10+</td></tr>\n",
       "\t<tr><th scope=row>55</th><td>625/632</td><td>13</td><td>IL10+TGFB+/TregIL10+</td></tr>\n",
       "\t<tr><th scope=row>56</th><td>753/760</td><td>10</td><td>IL10+TGFB+/TregIL10+</td></tr>\n",
       "\t<tr><th scope=row>57</th><td>881/888</td><td>16</td><td>IL10+TGFB+/TregIL10+</td></tr>\n",
       "\t<tr><th scope=row>58</th><td>1009/1016</td><td>12</td><td>IL10+TGFB+/TregIL10+</td></tr>\n",
       "</tbody>\n",
       "</table>\n"
      ],
      "text/latex": [
       "\\begin{tabular}{r|lll}\n",
       "  & involvedStates & basinSize & label\\\\\n",
       "\\hline\n",
       "\t1 & 0 & 27 & Th0\\\\\n",
       "\t2 & 1 & 2 & Th0\\\\\n",
       "\t3 & 4 & 14 & Th0\\\\\n",
       "\t4 & 16 & 13 & TGFB+\\\\\n",
       "\t5 & 48 & 8 & IL10+TGFB+\\\\\n",
       "\t6 & 65 & 35 & Th0\\\\\n",
       "\t7 & 68 & 8 & Th0\\\\\n",
       "\t8 & 89 & 13 & Treg\\\\\n",
       "\t9 & 112 & 3 & IL10+TGFB+\\\\\n",
       "\t10 & 121 & 1 & TregIL10+\\\\\n",
       "\t11 & 132 & 54 & Th0\\\\\n",
       "\t12 & 129 & 2 & Th0\\\\\n",
       "\t13 & 176 & 8 & IL10+TGFB+\\\\\n",
       "\t14 & 193 & 2 & Th0\\\\\n",
       "\t15 & 196 & 8 & Th0\\\\\n",
       "\t16 & 217 & 10 & Treg\\\\\n",
       "\t17 & 240 & 3 & IL10+TGFB+\\\\\n",
       "\t18 & 249 & 1 & TregIL10+\\\\\n",
       "\t19 & 272 & 26 & TGFB+\\\\\n",
       "\t20 & 278 & 14 & Th17\\\\\n",
       "\t21 & 304 & 24 & IL10+TGFB+\\\\\n",
       "\t22 & 345 & 26 & Treg\\\\\n",
       "\t23 & 342 & 8 & Th17\\\\\n",
       "\t24 & 368 & 19 & IL10+TGFB+\\\\\n",
       "\t25 & 377 & 1 & TregIL10+\\\\\n",
       "\t26 & 406 & 40 & Th17\\\\\n",
       "\t27 & 432 & 24 & IL10+TGFB+\\\\\n",
       "\t28 & 473 & 12 & Treg\\\\\n",
       "\t29 & 470 & 8 & Th17\\\\\n",
       "\t30 & 496 & 19 & IL10+TGFB+\\\\\n",
       "\t31 & 505 & 1 & TregIL10+\\\\\n",
       "\t32 & 544 & 43 & IL10+\\\\\n",
       "\t33 & 560 & 21 & IL10+TGFB+\\\\\n",
       "\t34 & 608 & 43 & IL10+\\\\\n",
       "\t35 & 633 & 5 & TregIL10+\\\\\n",
       "\t36 & 624 & 3 & IL10+TGFB+\\\\\n",
       "\t37 & 672 & 46 & IL10+\\\\\n",
       "\t38 & 688 & 18 & IL10+TGFB+\\\\\n",
       "\t39 & 736 & 46 & IL10+\\\\\n",
       "\t40 & 761 & 5 & TregIL10+\\\\\n",
       "\t41 & 752 & 3 & IL10+TGFB+\\\\\n",
       "\t42 & 816 & 64 & IL10+TGFB+\\\\\n",
       "\t43 & 880 & 43 & IL10+TGFB+\\\\\n",
       "\t44 & 889 & 5 & TregIL10+\\\\\n",
       "\t45 & 944 & 64 & IL10+TGFB+\\\\\n",
       "\t46 & 1008 & 47 & IL10+TGFB+\\\\\n",
       "\t47 & 1017 & 5 & TregIL10+\\\\\n",
       "\t48 & 113/120 & 4 & IL10+TGFB+/TregIL10+\\\\\n",
       "\t49 & 192/197 & 36 & Th0/Th0\\\\\n",
       "\t50 & 241/248 & 4 & IL10+TGFB+/TregIL10+\\\\\n",
       "\t51 & 338/341 & 6 & RORGT+/TGFB+\\\\\n",
       "\t52 & 369/376 & 4 & IL10+TGFB+/TregIL10+\\\\\n",
       "\t53 & 466/469 & 20 & RORGT+/TGFB+\\\\\n",
       "\t54 & 497/504 & 4 & IL10+TGFB+/TregIL10+\\\\\n",
       "\t55 & 625/632 & 13 & IL10+TGFB+/TregIL10+\\\\\n",
       "\t56 & 753/760 & 10 & IL10+TGFB+/TregIL10+\\\\\n",
       "\t57 & 881/888 & 16 & IL10+TGFB+/TregIL10+\\\\\n",
       "\t58 & 1009/1016 & 12 & IL10+TGFB+/TregIL10+\\\\\n",
       "\\end{tabular}\n"
      ],
      "text/plain": [
       "   involvedStates basinSize                label\n",
       "1               0        27                  Th0\n",
       "2               1         2                  Th0\n",
       "3               4        14                  Th0\n",
       "4              16        13                TGFB+\n",
       "5              48         8           IL10+TGFB+\n",
       "6              65        35                  Th0\n",
       "7              68         8                  Th0\n",
       "8              89        13                 Treg\n",
       "9             112         3           IL10+TGFB+\n",
       "10            121         1            TregIL10+\n",
       "11            132        54                  Th0\n",
       "12            129         2                  Th0\n",
       "13            176         8           IL10+TGFB+\n",
       "14            193         2                  Th0\n",
       "15            196         8                  Th0\n",
       "16            217        10                 Treg\n",
       "17            240         3           IL10+TGFB+\n",
       "18            249         1            TregIL10+\n",
       "19            272        26                TGFB+\n",
       "20            278        14                 Th17\n",
       "21            304        24           IL10+TGFB+\n",
       "22            345        26                 Treg\n",
       "23            342         8                 Th17\n",
       "24            368        19           IL10+TGFB+\n",
       "25            377         1            TregIL10+\n",
       "26            406        40                 Th17\n",
       "27            432        24           IL10+TGFB+\n",
       "28            473        12                 Treg\n",
       "29            470         8                 Th17\n",
       "30            496        19           IL10+TGFB+\n",
       "31            505         1            TregIL10+\n",
       "32            544        43                IL10+\n",
       "33            560        21           IL10+TGFB+\n",
       "34            608        43                IL10+\n",
       "35            633         5            TregIL10+\n",
       "36            624         3           IL10+TGFB+\n",
       "37            672        46                IL10+\n",
       "38            688        18           IL10+TGFB+\n",
       "39            736        46                IL10+\n",
       "40            761         5            TregIL10+\n",
       "41            752         3           IL10+TGFB+\n",
       "42            816        64           IL10+TGFB+\n",
       "43            880        43           IL10+TGFB+\n",
       "44            889         5            TregIL10+\n",
       "45            944        64           IL10+TGFB+\n",
       "46           1008        47           IL10+TGFB+\n",
       "47           1017         5            TregIL10+\n",
       "48        113/120         4 IL10+TGFB+/TregIL10+\n",
       "49        192/197        36              Th0/Th0\n",
       "50        241/248         4 IL10+TGFB+/TregIL10+\n",
       "51        338/341         6         RORGT+/TGFB+\n",
       "52        369/376         4 IL10+TGFB+/TregIL10+\n",
       "53        466/469        20         RORGT+/TGFB+\n",
       "54        497/504         4 IL10+TGFB+/TregIL10+\n",
       "55        625/632        13 IL10+TGFB+/TregIL10+\n",
       "56        753/760        10 IL10+TGFB+/TregIL10+\n",
       "57        881/888        16 IL10+TGFB+/TregIL10+\n",
       "58      1009/1016        12 IL10+TGFB+/TregIL10+"
      ]
     },
     "execution_count": 5,
     "metadata": {},
     "output_type": "execute_result"
    }
   ],
   "source": [
    "labels <- labelAttractors(attr, net$genes, labels.rules$labels, labels.rules$rules)\n",
    "attr.df$label <- sapply(labels, function(l) paste(as.character(l), collapse='/')  )\n",
    "    \n",
    "attr.df"
   ]
  },
  {
   "cell_type": "markdown",
   "metadata": {},
   "source": [
    "Now, lets take Th0 attractor 0 and expose it to a Th17 environment for one time step."
   ]
  },
  {
   "cell_type": "code",
   "execution_count": 6,
   "metadata": {
    "collapsed": false
   },
   "outputs": [
    {
     "data": {
      "text/html": [
       "<table>\n",
       "<tbody>\n",
       "\t<tr><td>4</td></tr>\n",
       "</tbody>\n",
       "</table>\n"
      ],
      "text/latex": [
       "\\begin{tabular}{l}\n",
       "\t 4\\\\\n",
       "\\end{tabular}\n"
      ],
      "text/markdown": [
       "4"
      ],
      "text/plain": [
       "     [,1]\n",
       "[1,]    4"
      ]
     },
     "execution_count": 6,
     "metadata": {},
     "output_type": "execute_result"
    },
    {
     "data": {
      "text/html": [
       "'Th0'"
      ],
      "text/latex": [
       "'Th0'"
      ],
      "text/markdown": [
       "'Th0'"
      ],
      "text/plain": [
       "[1] \"Th0\""
      ]
     },
     "execution_count": 6,
     "metadata": {},
     "output_type": "execute_result"
    }
   ],
   "source": [
    "state <- 0\n",
    "label <- labelState(int2binState(state, net$genes), \n",
    "                    net$genes, labels.rules$labels, labels.rules$rules )\n",
    "new.attr <- perturbPathToAttractor(int2binState(state, net$genes), net, \n",
    "                c('IL2e', 'IL21e', 'TGFBe', 'IL10e'), c(0,1,1,0),\n",
    "                time=1)\n",
    "\n",
    "new.state <- new.attr$attractors[[1]]$involvedStates\n",
    "new.label <- labelState(int2binState(new.state, net$genes), \n",
    "                        net$genes, labels.rules$labels, labels.rules$rules )\n",
    "\n",
    "new.state\n",
    "new.label"
   ]
  },
  {
   "cell_type": "markdown",
   "metadata": {},
   "source": [
    "As we can see, this time, the resulting attractor is different, but the resulting label is the same. Lets see the trajectory this perturbation followed."
   ]
  },
  {
   "cell_type": "code",
   "execution_count": 7,
   "metadata": {
    "collapsed": false
   },
   "outputs": [
    {
     "data": {
      "text/html": [
       "<table>\n",
       "<thead><tr><th></th><th scope=col>IL2</th><th scope=col>RORGT</th><th scope=col>STAT3</th><th scope=col>FOXP3</th><th scope=col>TGFB</th><th scope=col>IL10</th><th scope=col>IL2e</th><th scope=col>IL21e</th><th scope=col>TGFBe</th><th scope=col>IL10e</th></tr></thead>\n",
       "<tbody>\n",
       "\t<tr><th scope=row>1</th><td>0</td><td>0</td><td>0</td><td>0</td><td>0</td><td>0</td><td>0</td><td>0</td><td>0</td><td>0</td></tr>\n",
       "\t<tr><th scope=row>2</th><td>0</td><td>0</td><td>0</td><td>0</td><td>0</td><td>0</td><td>0</td><td>1</td><td>1</td><td>0</td></tr>\n",
       "\t<tr><th scope=row>3</th><td>0</td><td>0</td><td>1</td><td>0</td><td>1</td><td>0</td><td>0</td><td>0</td><td>0</td><td>0</td></tr>\n",
       "\t<tr><th scope=row>4</th><td>0</td><td>1</td><td>1</td><td>0</td><td>0</td><td>0</td><td>0</td><td>0</td><td>0</td><td>0</td></tr>\n",
       "\t<tr><th scope=row>5</th><td>0</td><td>0</td><td>1</td><td>0</td><td>0</td><td>0</td><td>0</td><td>0</td><td>0</td><td>0</td></tr>\n",
       "</tbody>\n",
       "</table>\n"
      ],
      "text/latex": [
       "\\begin{tabular}{r|llllllllll}\n",
       "  & IL2 & RORGT & STAT3 & FOXP3 & TGFB & IL10 & IL2e & IL21e & TGFBe & IL10e\\\\\n",
       "\\hline\n",
       "\t1 & 0 & 0 & 0 & 0 & 0 & 0 & 0 & 0 & 0 & 0\\\\\n",
       "\t2 & 0 & 0 & 0 & 0 & 0 & 0 & 0 & 1 & 1 & 0\\\\\n",
       "\t3 & 0 & 0 & 1 & 0 & 1 & 0 & 0 & 0 & 0 & 0\\\\\n",
       "\t4 & 0 & 1 & 1 & 0 & 0 & 0 & 0 & 0 & 0 & 0\\\\\n",
       "\t5 & 0 & 0 & 1 & 0 & 0 & 0 & 0 & 0 & 0 & 0\\\\\n",
       "\\end{tabular}\n"
      ],
      "text/markdown": [
       "1. 0\n",
       "2. 0\n",
       "3. 0\n",
       "4. 0\n",
       "5. 0\n",
       "6. 0\n",
       "7. 0\n",
       "8. 0\n",
       "9. 1\n",
       "10. 0\n",
       "11. 0\n",
       "12. 0\n",
       "13. 1\n",
       "14. 1\n",
       "15. 1\n",
       "16. 0\n",
       "17. 0\n",
       "18. 0\n",
       "19. 0\n",
       "20. 0\n",
       "21. 0\n",
       "22. 0\n",
       "23. 1\n",
       "24. 0\n",
       "25. 0\n",
       "26. 0\n",
       "27. 0\n",
       "28. 0\n",
       "29. 0\n",
       "30. 0\n",
       "31. 0\n",
       "32. 0\n",
       "33. 0\n",
       "34. 0\n",
       "35. 0\n",
       "36. 0\n",
       "37. 1\n",
       "38. 0\n",
       "39. 0\n",
       "40. 0\n",
       "41. 0\n",
       "42. 1\n",
       "43. 0\n",
       "44. 0\n",
       "45. 0\n",
       "46. 0\n",
       "47. 0\n",
       "48. 0\n",
       "49. 0\n",
       "50. 0\n",
       "\n",
       "\n"
      ],
      "text/plain": [
       "  IL2 RORGT STAT3 FOXP3 TGFB IL10 IL2e IL21e TGFBe IL10e\n",
       "1   0     0     0     0    0    0    0     0     0     0\n",
       "2   0     0     0     0    0    0    0     1     1     0\n",
       "3   0     0     1     0    1    0    0     0     0     0\n",
       "4   0     1     1     0    0    0    0     0     0     0\n",
       "5   0     0     1     0    0    0    0     0     0     0"
      ]
     },
     "execution_count": 7,
     "metadata": {},
     "output_type": "execute_result"
    }
   ],
   "source": [
    "state <- 0\n",
    "new.traj <- perturbPathToAttractor(int2binState(state, net$genes), net, \n",
    "                c('IL2e', 'IL21e', 'TGFBe', 'IL10e'), c(0,1,1,0),\n",
    "                time=1, returnTrajectory = TRUE)\n",
    "new.traj"
   ]
  },
  {
   "cell_type": "markdown",
   "metadata": {},
   "source": [
    "A question we can ask ourselves is if an attractor is more sensible to perturbations in a particular node, and what transitions do this perturbations cause.\n",
    "\n",
    "Lets take the Th0 __0__ attractor again and perturb one by one all its nodes for one time step. We will save this information in a data.frame"
   ]
  },
  {
   "cell_type": "code",
   "execution_count": 8,
   "metadata": {
    "collapsed": false
   },
   "outputs": [
    {
     "data": {
      "text/html": [
       "<table>\n",
       "<thead><tr><th></th><th scope=col>perturb.node</th><th scope=col>states</th><th scope=col>labels</th></tr></thead>\n",
       "<tbody>\n",
       "\t<tr><th scope=row>1</th><td>IL2</td><td>1</td><td>Th0</td></tr>\n",
       "\t<tr><th scope=row>2</th><td>RORGT</td><td>4</td><td>Th0</td></tr>\n",
       "\t<tr><th scope=row>3</th><td>STAT3</td><td>4</td><td>Th0</td></tr>\n",
       "\t<tr><th scope=row>4</th><td>FOXP3</td><td>16</td><td>TGFB+</td></tr>\n",
       "\t<tr><th scope=row>5</th><td>TGFB</td><td>16</td><td>TGFB+</td></tr>\n",
       "\t<tr><th scope=row>6</th><td>IL10</td><td>0</td><td>Th0</td></tr>\n",
       "\t<tr><th scope=row>7</th><td>IL2e</td><td>1</td><td>Th0</td></tr>\n",
       "\t<tr><th scope=row>8</th><td>IL21e</td><td>4</td><td>Th0</td></tr>\n",
       "\t<tr><th scope=row>9</th><td>TGFBe</td><td>16</td><td>TGFB+</td></tr>\n",
       "\t<tr><th scope=row>10</th><td>IL10e</td><td>0</td><td>Th0</td></tr>\n",
       "</tbody>\n",
       "</table>\n"
      ],
      "text/latex": [
       "\\begin{tabular}{r|lll}\n",
       "  & perturb.node & states & labels\\\\\n",
       "\\hline\n",
       "\t1 & IL2 & 1 & Th0\\\\\n",
       "\t2 & RORGT & 4 & Th0\\\\\n",
       "\t3 & STAT3 & 4 & Th0\\\\\n",
       "\t4 & FOXP3 & 16 & TGFB+\\\\\n",
       "\t5 & TGFB & 16 & TGFB+\\\\\n",
       "\t6 & IL10 & 0 & Th0\\\\\n",
       "\t7 & IL2e & 1 & Th0\\\\\n",
       "\t8 & IL21e & 4 & Th0\\\\\n",
       "\t9 & TGFBe & 16 & TGFB+\\\\\n",
       "\t10 & IL10e & 0 & Th0\\\\\n",
       "\\end{tabular}\n"
      ],
      "text/plain": [
       "   perturb.node states labels\n",
       "1           IL2      1    Th0\n",
       "2         RORGT      4    Th0\n",
       "3         STAT3      4    Th0\n",
       "4         FOXP3     16  TGFB+\n",
       "5          TGFB     16  TGFB+\n",
       "6          IL10      0    Th0\n",
       "7          IL2e      1    Th0\n",
       "8         IL21e      4    Th0\n",
       "9         TGFBe     16  TGFB+\n",
       "10        IL10e      0    Th0"
      ]
     },
     "execution_count": 8,
     "metadata": {},
     "output_type": "execute_result"
    }
   ],
   "source": [
    "state <- 0\n",
    "state <- int2binState(state, net$genes)\n",
    "\n",
    "# perturb all nodes for time = 1\n",
    "perturbations <- lapply(names(state), function(node) {\n",
    "    new.state <- perturbPathToAttractor(state, net, \n",
    "                node, !state[[node]], time=1)\n",
    "    new.state$attractors[[1]]$involvedStates\n",
    "})\n",
    "# label states\n",
    "pertur.labels <- sapply(perturbations, function(state) {\n",
    "    state <- int2binState(state, net$genes)\n",
    "    label <- labelState(state, net$genes, labels.rules$labels, labels.rules$rules )\n",
    "})\n",
    "# create dataframe\n",
    "perturbations <- data.frame(perturb.node=names(state), states=unlist(perturbations), labels=pertur.labels)\n",
    "perturbations"
   ]
  },
  {
   "cell_type": "markdown",
   "metadata": {},
   "source": [
    "This table shows us all the possible one node perturbations for a state and their resulting attractors and labels. As we can see the Th0 __0__ attractor is very sensible to perturbations, but most of them end in the same cell-type."
   ]
  },
  {
   "cell_type": "code",
   "execution_count": null,
   "metadata": {
    "collapsed": true
   },
   "outputs": [],
   "source": []
  },
  {
   "cell_type": "code",
   "execution_count": null,
   "metadata": {
    "collapsed": true
   },
   "outputs": [],
   "source": []
  },
  {
   "cell_type": "markdown",
   "metadata": {},
   "source": [
    "## Stochastic noise"
   ]
  },
  {
   "cell_type": "markdown",
   "metadata": {},
   "source": [
    "# Index\n",
    "\n",
    "* [Introduction](./RPRN-Introduction.ipynb)\n",
    "* [BoolNet](./RPRN-BoolNet.ipynb)\n",
    "* [Functions](./RPRN-Functions.ipynb)\n",
    "* [Updating](./RPRN-Updating.ipynb)\n",
    "* States and trajectories\n",
    "* [Appendix](./RPRN-Appendix.ipynb)"
   ]
  }
 ],
 "metadata": {
  "kernelspec": {
   "display_name": "R",
   "language": "R",
   "name": "ir"
  },
  "language_info": {
   "codemirror_mode": "r",
   "file_extension": ".r",
   "mimetype": "text/x-r-source",
   "name": "R",
   "pygments_lexer": "r",
   "version": "3.2.2"
  }
 },
 "nbformat": 4,
 "nbformat_minor": 0
}
