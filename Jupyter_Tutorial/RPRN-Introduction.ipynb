{
 "cells": [
  {
   "cell_type": "markdown",
   "metadata": {},
   "source": [
    "# Robustness and Plasticity in Regulatory Networks\n",
    "\n",
    "* [Introduction](#Introduction)\n",
    "    * [Robustness in biological systems](#Robustness-in-biological-systems)\n",
    "    * [Boolean regulatory networks](#Boolean-Regulatory-Networks)\n",
    "    * [Biological system: Th17/iTreg network](#Biological-system:-Th17/iTreg-network)\n",
    "    * [BoolNet and BoolNetPerturb](#BoolNet-and-BoolNetPerturb)\n",
    "* [BoolNet](./RPRN-BoolNet.ipynb)\n",
    "    * Construction\n",
    "    * Attractors\n",
    "    * Labels\n",
    "* [Functions](./RPRN-Functions.ipynb)\n",
    "    * Overexpression and KnockOuts\n",
    "    * Fixed environments\n",
    "    * Truth tables\n",
    "* [Updating](./RPRN-Updating.ipynb)\n",
    "    * Synchronous vs asynchronous\n",
    "    * Transition table\n",
    "* [States and trajectories](./RPRN-States-Trajectories.ipynb)\n",
    "    * Transient perturbations\n",
    "    * Stochastic noise\n",
    "* [Appendix](./RPRN-Appendix.ipynb)\n",
    "    * Simulation and model checking\n",
    "    * Importing and exporting with SBML-qual"
   ]
  },
  {
   "cell_type": "markdown",
   "metadata": {},
   "source": [
    "# Introduction"
   ]
  },
  {
   "cell_type": "markdown",
   "metadata": {},
   "source": [
    "## Robustness in biological systems\n",
    "\n",
    "* cite{Wagner, COLOMOTO, GINsim, Boolnet}\n",
    "* Define robustness, stability and plasticity\n",
    "* The different levels of RN perturbations\n",
    "* Biological system: Th17/iTreg\n",
    "\n",
    "* Organism development, noise and perturbations\n",
    "* Multiple levels of perturbations\n",
    "* Common mechanism for robustness and plasticity\n",
    "\n",
    "Organisms develop in a changing world where they are subject to both intrisic noise and a perturbations of the environment. They need to be both resilient and capable of altering their phenotype depending of the circumstances. This two behaivors coexist in living beings, which indicates that there is a common mechanism that underlies both robustness and plasticity\\cite{Wagner?}. Gene Regulatory Networks are a usefull tool for studing the robustness and plasticity of biological systems in response to different kinds of perturbations."
   ]
  },
  {
   "cell_type": "markdown",
   "metadata": {},
   "source": [
    "## Boolean Regulatory Networks\n",
    "\n",
    "* GRN have been used for developmet and plasticity\n",
    "* Integrate molecular data to predict cell behavior\n",
    "\n",
    "* Modelling perturbations in GRN and biological implications\n",
    "* Attractors\n",
    "\n",
    "Gene regulatory Networks (GRN)  are deterministic dynamic systems. GRN have been used to study the differentiation, robustness and plasticity of developmental processes in different organisms\\cite{}. \n",
    "GRN consist of nodes -that can be genes, proteins, biochemical or even biological processes- and edges -that represent the regulatory interactions among the nodes. Using this interactions it is possible to construct functions that describe the state of the nodes, this means, wether the gene or protein is active or inactive. \n",
    "The functions of the network are iterated to obtain the stable states or the system or attractors. This attractors correspond to the biological cell types \\cite{Kaufman}.\n",
    "However, as we have alredy discused, biological systems are subjected to noise and perturbations. This perturbations can affect each of the steps\n",
    "[Fig1 A] \\cite{reviewReka?}.\n",
    "\n",
    "<img src=\"DiagramGRN.svg\">"
   ]
  },
  {
   "cell_type": "markdown",
   "metadata": {},
   "source": [
    "## Biological system: Th17/iTreg network"
   ]
  },
  {
   "cell_type": "markdown",
   "metadata": {},
   "source": [
    "In this work we will study the Th17/iTreg regulatory network. CD4 + T cells are fundamental for the adaptive immune response. They integrate the signals of the environment and differentiate into different cell types (Th1, Th2, Th17, iTreg, etc), which activate different parts of the inmune system. In particular, Th17 cells have been associated with the inflammation and iTreg cells with the regulation of the inflamatory response.\n",
    "CD4+ T cells begin as naïve Th0 cells, which do not express a transcription factor. These cells are activated by antigen presentation and differentiate into different cell types depending in the cytokines in the environment. In the presence of IL-6 or IL-21 and TGF$\\beta$ Th0 cells differentiate into Th17 cells and express ROR$\\gamma$t, IL-21 and IL-17. In the presence of IL-2 and TGF$\\beta$ Th0 cells differentiate into iTreg cells and express Foxp3 and TGF$\\beta$. Interleukin-10 (IL-10) is a regulatory cytokine that is expressed in multiple cell types, it is activated by various cytokines including IL-6, IL-21 and TGF$\\beta$. These cytokines and transcription factors regulate each other and their relationships can be vizualized a as graph.\n",
    "<img src=\"minTh17iTreg.png\">"
   ]
  },
  {
   "cell_type": "markdown",
   "metadata": {},
   "source": [
    "## BoolNet and BoolNetPerturb\n",
    "\n",
    "In this tutorial we will use the packages [BoolNet](https://cran.r-project.org/web/packages/BoolNet/index.html) and [BoolNetPerturb](https://github.com/mar-esther23/boolnet-perturb)."
   ]
  },
  {
   "cell_type": "markdown",
   "metadata": {},
   "source": [
    "First, lets verify that we have `BoolNet`."
   ]
  },
  {
   "cell_type": "code",
   "execution_count": 2,
   "metadata": {
    "collapsed": false
   },
   "outputs": [],
   "source": [
    "#Uncomment next line if you haven't installed BoolNet\n",
    "#install.packages(\"BoolNet\", repos='http://cran.us.r-project.org')\n",
    "library(BoolNet)"
   ]
  },
  {
   "cell_type": "markdown",
   "metadata": {},
   "source": [
    "Next, lets verify that we have `BoolNetPerturb`. If you have problems check the [installation guide](https://github.com/mar-esther23/boolnet-perturb)."
   ]
  },
  {
   "cell_type": "code",
   "execution_count": 8,
   "metadata": {
    "collapsed": true
   },
   "outputs": [],
   "source": [
    "library(BoolNetPerturb)"
   ]
  },
  {
   "cell_type": "markdown",
   "metadata": {},
   "source": [
    "Now we can begin!"
   ]
  },
  {
   "cell_type": "markdown",
   "metadata": {},
   "source": [
    "# Index\n",
    "\n",
    "* Introduction\n",
    "* [BoolNet](./RPRN-BoolNet.ipynb)\n",
    "* [Functions](./RPRN-Functions.ipynb)\n",
    "* [Updating](./RPRN-Updating.ipynb)\n",
    "* [States and trajectories](./RPRN-States-Trajectories.ipynb)\n",
    "* [Appendix](./RPRN-Appendix.ipynb)"
   ]
  }
 ],
 "metadata": {
  "kernelspec": {
   "display_name": "R",
   "language": "R",
   "name": "ir"
  },
  "language_info": {
   "codemirror_mode": "r",
   "file_extension": ".r",
   "mimetype": "text/x-r-source",
   "name": "R",
   "pygments_lexer": "r",
   "version": "3.2.2"
  }
 },
 "nbformat": 4,
 "nbformat_minor": 0
}
