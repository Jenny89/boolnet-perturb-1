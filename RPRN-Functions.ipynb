{
 "cells": [
  {
   "cell_type": "markdown",
   "metadata": {},
   "source": [
    "# Robustness and Plasticity in Regulatory Networks\n",
    "\n",
    "* [Introduction](./RPRN-Introduction.ipynb)\n",
    "* [BoolNet](./RPRN-BoolNet.ipynb)\n",
    "* [Functions](#Functions)\n",
    "    * [Overexpression and KnockOuts](#Overexpression-and-KnockOuts)\n",
    "    * [Fixed environments](#Fixed-environments)\n",
    "    * [Truth tables](#Truth-tables)\n",
    "* [Updating](./RPRN-Updating.ipynb)\n",
    "* [States](./RPRN-States.ipynb)\n",
    "* [Appendix](./RPRN-Appendix.ipynb)"
   ]
  },
  {
   "cell_type": "markdown",
   "metadata": {},
   "source": [
    "# Functions\n",
    "\n",
    "Functions recapitulate the regulatory interactions and determine the dynamic of the Boolean regulatory network. They are limited by the topology, as nodes can only be directly influeced by their regulators. Changing the functions of a network can create a whole new network. This new network may share some attractors -or cell types- with the original network, but it may also lose or gain other attractors.\n",
    "\n",
    "The changes in the functions of a network can be associated with multiple biological phenomena. Experiments, environmental factors, evolution, epigenetics and the intrinsic flexibility of the regulatory mechanisms all alter the iteractions of the regulatory network of a biological system."
   ]
  },
  {
   "cell_type": "markdown",
   "metadata": {},
   "source": [
    "In this tutorial we will use some of the existing BoolNet functions to study the effect of perturbing the network functions. We will also use some of the labeling functions we discussed in the [BoolNet]((./RPRN-BoolNet.ipynb)) introduction."
   ]
  },
  {
   "cell_type": "code",
   "execution_count": 1,
   "metadata": {
    "collapsed": true
   },
   "outputs": [],
   "source": [
    "#Uncomment next line if you haven't installed BoolNet\n",
    "#install.packages(\"BoolNet\", repos='http://cran.us.r-project.org')\n",
    "library(BoolNet)\n",
    "source(\"./BoolNet-extensions.R\")"
   ]
  },
  {
   "cell_type": "markdown",
   "metadata": {},
   "source": [
    "## Overexpression and KnockOuts\n",
    "\n",
    "A lot of experiments  inhibit or overexpress genes, with is equivalent to fixing the functions to 0 or 1. Studing this perturbations is useful for validating the network with known gain and loss of function experiments. It can also be used to predict the effect of difficult experiments like letal or conditional mutants."
   ]
  },
  {
   "cell_type": "markdown",
   "metadata": {},
   "source": [
    "First, we need to know how our wild type network will behave. We will use the Th17/iTreg network."
   ]
  },
  {
   "cell_type": "code",
   "execution_count": 2,
   "metadata": {
    "collapsed": false
   },
   "outputs": [],
   "source": [
    "net <- loadNetwork(\"minTh17iTreg.txt\")\n",
    "WT.attr <- getAttractors(net)"
   ]
  },
  {
   "cell_type": "markdown",
   "metadata": {},
   "source": [
    "However, analysing this structure can be complicated, we will label them and convert them to a data frame. Here we will use the __attractor2dataframe()__ and __labelAttractors()__ functions."
   ]
  },
  {
   "cell_type": "markdown",
   "metadata": {},
   "source": [
    "First we will declare our labelling rules."
   ]
  },
  {
   "cell_type": "code",
   "execution_count": 3,
   "metadata": {
    "collapsed": false
   },
   "outputs": [
    {
     "data": {
      "text/html": [
       "<table>\n",
       "<thead><tr><th></th><th scope=col>labels</th><th scope=col>rules</th></tr></thead>\n",
       "<tbody>\n",
       "\t<tr><th scope=row>1</th><td>Th0</td><td>!(RORGT | FOXP3 | TGFB | IL10)</td></tr>\n",
       "\t<tr><th scope=row>2</th><td>Th17</td><td>RORGT & STAT3</td></tr>\n",
       "\t<tr><th scope=row>3</th><td>Treg</td><td>FOXP3 & TGFB</td></tr>\n",
       "\t<tr><th scope=row>4</th><td>IL10+</td><td>IL10</td></tr>\n",
       "\t<tr><th scope=row>5</th><td>TGFB+</td><td>TGFB & ! (RORGT | FOXP3)</td></tr>\n",
       "\t<tr><th scope=row>6</th><td>RORGT+</td><td>RORGT & ! STAT3</td></tr>\n",
       "</tbody>\n",
       "</table>\n"
      ],
      "text/latex": [
       "\\begin{tabular}{r|ll}\n",
       "  & labels & rules\\\\\n",
       "\\hline\n",
       "\t1 & Th0 & !(RORGT | FOXP3 | TGFB | IL10)\\\\\n",
       "\t2 & Th17 & RORGT & STAT3\\\\\n",
       "\t3 & Treg & FOXP3 & TGFB\\\\\n",
       "\t4 & IL10+ & IL10\\\\\n",
       "\t5 & TGFB+ & TGFB & ! (RORGT | FOXP3)\\\\\n",
       "\t6 & RORGT+ & RORGT & ! STAT3\\\\\n",
       "\\end{tabular}\n"
      ],
      "text/plain": [
       "  labels                          rules\n",
       "1    Th0 !(RORGT | FOXP3 | TGFB | IL10)\n",
       "2   Th17                  RORGT & STAT3\n",
       "3   Treg                   FOXP3 & TGFB\n",
       "4  IL10+                           IL10\n",
       "5  TGFB+       TGFB & ! (RORGT | FOXP3)\n",
       "6 RORGT+                RORGT & ! STAT3"
      ]
     },
     "execution_count": 3,
     "metadata": {},
     "output_type": "execute_result"
    }
   ],
   "source": [
    "labels.rules <- data.frame(\n",
    "    labels = c('Th0', 'Th17', 'Treg', 'IL10+', 'TGFB+', 'RORGT+'),\n",
    "    rules  = c('!(RORGT | FOXP3 | TGFB | IL10)', \n",
    "            'RORGT & STAT3', \n",
    "            'FOXP3 & TGFB', \n",
    "            'IL10', \n",
    "            'TGFB & ! (RORGT | FOXP3)', \n",
    "            'RORGT & ! STAT3' ),\n",
    "    stringsAsFactors = FALSE\n",
    ")\n",
    "labels.rules"
   ]
  },
  {
   "cell_type": "markdown",
   "metadata": {},
   "source": [
    "Next we will create a data frame with all the information."
   ]
  },
  {
   "cell_type": "code",
   "execution_count": 4,
   "metadata": {
    "collapsed": false,
    "scrolled": true
   },
   "outputs": [
    {
     "data": {
      "text/html": [
       "<table>\n",
       "<thead><tr><th></th><th scope=col>involvedStates</th><th scope=col>basinSize</th><th scope=col>label</th></tr></thead>\n",
       "<tbody>\n",
       "\t<tr><th scope=row>1</th><td>0</td><td>27</td><td>Th0</td></tr>\n",
       "\t<tr><th scope=row>2</th><td>1</td><td>2</td><td>Th0</td></tr>\n",
       "\t<tr><th scope=row>3</th><td>4</td><td>14</td><td>Th0</td></tr>\n",
       "\t<tr><th scope=row>4</th><td>16</td><td>13</td><td>TGFB+</td></tr>\n",
       "\t<tr><th scope=row>5</th><td>48</td><td>8</td><td>IL10+TGFB+</td></tr>\n",
       "\t<tr><th scope=row>6</th><td>65</td><td>35</td><td>Th0</td></tr>\n",
       "\t<tr><th scope=row>7</th><td>68</td><td>8</td><td>Th0</td></tr>\n",
       "\t<tr><th scope=row>8</th><td>89</td><td>13</td><td>Treg</td></tr>\n",
       "\t<tr><th scope=row>9</th><td>112</td><td>3</td><td>IL10+TGFB+</td></tr>\n",
       "\t<tr><th scope=row>10</th><td>121</td><td>1</td><td>TregIL10+</td></tr>\n",
       "\t<tr><th scope=row>11</th><td>132</td><td>54</td><td>Th0</td></tr>\n",
       "\t<tr><th scope=row>12</th><td>129</td><td>2</td><td>Th0</td></tr>\n",
       "\t<tr><th scope=row>13</th><td>176</td><td>8</td><td>IL10+TGFB+</td></tr>\n",
       "\t<tr><th scope=row>14</th><td>193</td><td>2</td><td>Th0</td></tr>\n",
       "\t<tr><th scope=row>15</th><td>196</td><td>8</td><td>Th0</td></tr>\n",
       "\t<tr><th scope=row>16</th><td>217</td><td>10</td><td>Treg</td></tr>\n",
       "\t<tr><th scope=row>17</th><td>240</td><td>3</td><td>IL10+TGFB+</td></tr>\n",
       "\t<tr><th scope=row>18</th><td>249</td><td>1</td><td>TregIL10+</td></tr>\n",
       "\t<tr><th scope=row>19</th><td>272</td><td>26</td><td>TGFB+</td></tr>\n",
       "\t<tr><th scope=row>20</th><td>278</td><td>14</td><td>Th17</td></tr>\n",
       "\t<tr><th scope=row>21</th><td>304</td><td>24</td><td>IL10+TGFB+</td></tr>\n",
       "\t<tr><th scope=row>22</th><td>345</td><td>26</td><td>Treg</td></tr>\n",
       "\t<tr><th scope=row>23</th><td>342</td><td>8</td><td>Th17</td></tr>\n",
       "\t<tr><th scope=row>24</th><td>368</td><td>19</td><td>IL10+TGFB+</td></tr>\n",
       "\t<tr><th scope=row>25</th><td>377</td><td>1</td><td>TregIL10+</td></tr>\n",
       "\t<tr><th scope=row>26</th><td>406</td><td>40</td><td>Th17</td></tr>\n",
       "\t<tr><th scope=row>27</th><td>432</td><td>24</td><td>IL10+TGFB+</td></tr>\n",
       "\t<tr><th scope=row>28</th><td>473</td><td>12</td><td>Treg</td></tr>\n",
       "\t<tr><th scope=row>29</th><td>470</td><td>8</td><td>Th17</td></tr>\n",
       "\t<tr><th scope=row>30</th><td>496</td><td>19</td><td>IL10+TGFB+</td></tr>\n",
       "\t<tr><th scope=row>31</th><td>505</td><td>1</td><td>TregIL10+</td></tr>\n",
       "\t<tr><th scope=row>32</th><td>544</td><td>43</td><td>IL10+</td></tr>\n",
       "\t<tr><th scope=row>33</th><td>560</td><td>21</td><td>IL10+TGFB+</td></tr>\n",
       "\t<tr><th scope=row>34</th><td>608</td><td>43</td><td>IL10+</td></tr>\n",
       "\t<tr><th scope=row>35</th><td>633</td><td>5</td><td>TregIL10+</td></tr>\n",
       "\t<tr><th scope=row>36</th><td>624</td><td>3</td><td>IL10+TGFB+</td></tr>\n",
       "\t<tr><th scope=row>37</th><td>672</td><td>46</td><td>IL10+</td></tr>\n",
       "\t<tr><th scope=row>38</th><td>688</td><td>18</td><td>IL10+TGFB+</td></tr>\n",
       "\t<tr><th scope=row>39</th><td>736</td><td>46</td><td>IL10+</td></tr>\n",
       "\t<tr><th scope=row>40</th><td>761</td><td>5</td><td>TregIL10+</td></tr>\n",
       "\t<tr><th scope=row>41</th><td>752</td><td>3</td><td>IL10+TGFB+</td></tr>\n",
       "\t<tr><th scope=row>42</th><td>816</td><td>64</td><td>IL10+TGFB+</td></tr>\n",
       "\t<tr><th scope=row>43</th><td>880</td><td>43</td><td>IL10+TGFB+</td></tr>\n",
       "\t<tr><th scope=row>44</th><td>889</td><td>5</td><td>TregIL10+</td></tr>\n",
       "\t<tr><th scope=row>45</th><td>944</td><td>64</td><td>IL10+TGFB+</td></tr>\n",
       "\t<tr><th scope=row>46</th><td>1008</td><td>47</td><td>IL10+TGFB+</td></tr>\n",
       "\t<tr><th scope=row>47</th><td>1017</td><td>5</td><td>TregIL10+</td></tr>\n",
       "\t<tr><th scope=row>48</th><td>113/120</td><td>4</td><td>IL10+TGFB+/TregIL10+</td></tr>\n",
       "\t<tr><th scope=row>49</th><td>192/197</td><td>36</td><td>Th0/Th0</td></tr>\n",
       "\t<tr><th scope=row>50</th><td>241/248</td><td>4</td><td>IL10+TGFB+/TregIL10+</td></tr>\n",
       "\t<tr><th scope=row>51</th><td>338/341</td><td>6</td><td>RORGT+/TGFB+</td></tr>\n",
       "\t<tr><th scope=row>52</th><td>369/376</td><td>4</td><td>IL10+TGFB+/TregIL10+</td></tr>\n",
       "\t<tr><th scope=row>53</th><td>466/469</td><td>20</td><td>RORGT+/TGFB+</td></tr>\n",
       "\t<tr><th scope=row>54</th><td>497/504</td><td>4</td><td>IL10+TGFB+/TregIL10+</td></tr>\n",
       "\t<tr><th scope=row>55</th><td>625/632</td><td>13</td><td>IL10+TGFB+/TregIL10+</td></tr>\n",
       "\t<tr><th scope=row>56</th><td>753/760</td><td>10</td><td>IL10+TGFB+/TregIL10+</td></tr>\n",
       "\t<tr><th scope=row>57</th><td>881/888</td><td>16</td><td>IL10+TGFB+/TregIL10+</td></tr>\n",
       "\t<tr><th scope=row>58</th><td>1009/1016</td><td>12</td><td>IL10+TGFB+/TregIL10+</td></tr>\n",
       "</tbody>\n",
       "</table>\n"
      ],
      "text/latex": [
       "\\begin{tabular}{r|lll}\n",
       "  & involvedStates & basinSize & label\\\\\n",
       "\\hline\n",
       "\t1 & 0 & 27 & Th0\\\\\n",
       "\t2 & 1 & 2 & Th0\\\\\n",
       "\t3 & 4 & 14 & Th0\\\\\n",
       "\t4 & 16 & 13 & TGFB+\\\\\n",
       "\t5 & 48 & 8 & IL10+TGFB+\\\\\n",
       "\t6 & 65 & 35 & Th0\\\\\n",
       "\t7 & 68 & 8 & Th0\\\\\n",
       "\t8 & 89 & 13 & Treg\\\\\n",
       "\t9 & 112 & 3 & IL10+TGFB+\\\\\n",
       "\t10 & 121 & 1 & TregIL10+\\\\\n",
       "\t11 & 132 & 54 & Th0\\\\\n",
       "\t12 & 129 & 2 & Th0\\\\\n",
       "\t13 & 176 & 8 & IL10+TGFB+\\\\\n",
       "\t14 & 193 & 2 & Th0\\\\\n",
       "\t15 & 196 & 8 & Th0\\\\\n",
       "\t16 & 217 & 10 & Treg\\\\\n",
       "\t17 & 240 & 3 & IL10+TGFB+\\\\\n",
       "\t18 & 249 & 1 & TregIL10+\\\\\n",
       "\t19 & 272 & 26 & TGFB+\\\\\n",
       "\t20 & 278 & 14 & Th17\\\\\n",
       "\t21 & 304 & 24 & IL10+TGFB+\\\\\n",
       "\t22 & 345 & 26 & Treg\\\\\n",
       "\t23 & 342 & 8 & Th17\\\\\n",
       "\t24 & 368 & 19 & IL10+TGFB+\\\\\n",
       "\t25 & 377 & 1 & TregIL10+\\\\\n",
       "\t26 & 406 & 40 & Th17\\\\\n",
       "\t27 & 432 & 24 & IL10+TGFB+\\\\\n",
       "\t28 & 473 & 12 & Treg\\\\\n",
       "\t29 & 470 & 8 & Th17\\\\\n",
       "\t30 & 496 & 19 & IL10+TGFB+\\\\\n",
       "\t31 & 505 & 1 & TregIL10+\\\\\n",
       "\t32 & 544 & 43 & IL10+\\\\\n",
       "\t33 & 560 & 21 & IL10+TGFB+\\\\\n",
       "\t34 & 608 & 43 & IL10+\\\\\n",
       "\t35 & 633 & 5 & TregIL10+\\\\\n",
       "\t36 & 624 & 3 & IL10+TGFB+\\\\\n",
       "\t37 & 672 & 46 & IL10+\\\\\n",
       "\t38 & 688 & 18 & IL10+TGFB+\\\\\n",
       "\t39 & 736 & 46 & IL10+\\\\\n",
       "\t40 & 761 & 5 & TregIL10+\\\\\n",
       "\t41 & 752 & 3 & IL10+TGFB+\\\\\n",
       "\t42 & 816 & 64 & IL10+TGFB+\\\\\n",
       "\t43 & 880 & 43 & IL10+TGFB+\\\\\n",
       "\t44 & 889 & 5 & TregIL10+\\\\\n",
       "\t45 & 944 & 64 & IL10+TGFB+\\\\\n",
       "\t46 & 1008 & 47 & IL10+TGFB+\\\\\n",
       "\t47 & 1017 & 5 & TregIL10+\\\\\n",
       "\t48 & 113/120 & 4 & IL10+TGFB+/TregIL10+\\\\\n",
       "\t49 & 192/197 & 36 & Th0/Th0\\\\\n",
       "\t50 & 241/248 & 4 & IL10+TGFB+/TregIL10+\\\\\n",
       "\t51 & 338/341 & 6 & RORGT+/TGFB+\\\\\n",
       "\t52 & 369/376 & 4 & IL10+TGFB+/TregIL10+\\\\\n",
       "\t53 & 466/469 & 20 & RORGT+/TGFB+\\\\\n",
       "\t54 & 497/504 & 4 & IL10+TGFB+/TregIL10+\\\\\n",
       "\t55 & 625/632 & 13 & IL10+TGFB+/TregIL10+\\\\\n",
       "\t56 & 753/760 & 10 & IL10+TGFB+/TregIL10+\\\\\n",
       "\t57 & 881/888 & 16 & IL10+TGFB+/TregIL10+\\\\\n",
       "\t58 & 1009/1016 & 12 & IL10+TGFB+/TregIL10+\\\\\n",
       "\\end{tabular}\n"
      ],
      "text/plain": [
       "   involvedStates basinSize                label\n",
       "1               0        27                  Th0\n",
       "2               1         2                  Th0\n",
       "3               4        14                  Th0\n",
       "4              16        13                TGFB+\n",
       "5              48         8           IL10+TGFB+\n",
       "6              65        35                  Th0\n",
       "7              68         8                  Th0\n",
       "8              89        13                 Treg\n",
       "9             112         3           IL10+TGFB+\n",
       "10            121         1            TregIL10+\n",
       "11            132        54                  Th0\n",
       "12            129         2                  Th0\n",
       "13            176         8           IL10+TGFB+\n",
       "14            193         2                  Th0\n",
       "15            196         8                  Th0\n",
       "16            217        10                 Treg\n",
       "17            240         3           IL10+TGFB+\n",
       "18            249         1            TregIL10+\n",
       "19            272        26                TGFB+\n",
       "20            278        14                 Th17\n",
       "21            304        24           IL10+TGFB+\n",
       "22            345        26                 Treg\n",
       "23            342         8                 Th17\n",
       "24            368        19           IL10+TGFB+\n",
       "25            377         1            TregIL10+\n",
       "26            406        40                 Th17\n",
       "27            432        24           IL10+TGFB+\n",
       "28            473        12                 Treg\n",
       "29            470         8                 Th17\n",
       "30            496        19           IL10+TGFB+\n",
       "31            505         1            TregIL10+\n",
       "32            544        43                IL10+\n",
       "33            560        21           IL10+TGFB+\n",
       "34            608        43                IL10+\n",
       "35            633         5            TregIL10+\n",
       "36            624         3           IL10+TGFB+\n",
       "37            672        46                IL10+\n",
       "38            688        18           IL10+TGFB+\n",
       "39            736        46                IL10+\n",
       "40            761         5            TregIL10+\n",
       "41            752         3           IL10+TGFB+\n",
       "42            816        64           IL10+TGFB+\n",
       "43            880        43           IL10+TGFB+\n",
       "44            889         5            TregIL10+\n",
       "45            944        64           IL10+TGFB+\n",
       "46           1008        47           IL10+TGFB+\n",
       "47           1017         5            TregIL10+\n",
       "48        113/120         4 IL10+TGFB+/TregIL10+\n",
       "49        192/197        36              Th0/Th0\n",
       "50        241/248         4 IL10+TGFB+/TregIL10+\n",
       "51        338/341         6         RORGT+/TGFB+\n",
       "52        369/376         4 IL10+TGFB+/TregIL10+\n",
       "53        466/469        20         RORGT+/TGFB+\n",
       "54        497/504         4 IL10+TGFB+/TregIL10+\n",
       "55        625/632        13 IL10+TGFB+/TregIL10+\n",
       "56        753/760        10 IL10+TGFB+/TregIL10+\n",
       "57        881/888        16 IL10+TGFB+/TregIL10+\n",
       "58      1009/1016        12 IL10+TGFB+/TregIL10+"
      ]
     },
     "execution_count": 4,
     "metadata": {},
     "output_type": "execute_result"
    }
   ],
   "source": [
    "WT.attr.df <- attractor2dataframe(WT.attr) \n",
    "WT.labels <- labelAttractors(WT.attr, net$genes, labels.rules$labels, labels.rules$rules)\n",
    "WT.attr.df$label <- sapply(WT.labels, function(label) {\n",
    "    paste(as.character(label), collapse='/')\n",
    "})\n",
    "WT.attr.df"
   ]
  },
  {
   "cell_type": "markdown",
   "metadata": {},
   "source": [
    "Now that we know the behaivor of the WT network we can begin perturbing it. \n",
    "\n",
    "We will do a knock-out experiment, where the value of STAT3 will always be zero. This wpuld be equivalent to deleting the STAT3 gene or inhibiting all the signaling pathways that end in STAT3 activation.\n",
    "\n",
    "We can fix the value of the node in the original network or we can create a second mutant network. "
   ]
  },
  {
   "cell_type": "code",
   "execution_count": 6,
   "metadata": {
    "collapsed": false,
    "scrolled": true
   },
   "outputs": [
    {
     "data": {
      "text/plain": [
       "Boolean network with 10 genes\n",
       "\n",
       "Involved genes:\n",
       "IL2 RORGT STAT3 FOXP3 TGFB IL10 IL2e IL21e TGFBe IL10e\n",
       "\n",
       "Transition functions:\n",
       "IL2 = (IL2e | (IL2 &  ! FOXP3)) &  ! (STAT3 | (IL10 & ! FOXP3))\n",
       "RORGT = (STAT3 & TGFB) &  ! FOXP3\n",
       "STAT3 = (IL21e | STAT3 | RORGT) &  ! (IL10 | IL2)\n",
       "FOXP3 = (IL2 & (TGFB | FOXP3)) &  ! (STAT3 | RORGT)\n",
       "TGFB = TGFBe | ((TGFB | FOXP3) &  ! STAT3 )\n",
       "IL10 = IL10e | (IL10 & (STAT3 | TGFB))\n",
       "IL2e = IL2e\n",
       "IL21e = IL21e\n",
       "TGFBe = TGFBe\n",
       "IL10e = IL10e\n",
       "\n",
       "Knocked-out and over-expressed genes:\n",
       "STAT3 = 0"
      ]
     },
     "execution_count": 6,
     "metadata": {},
     "output_type": "execute_result"
    }
   ],
   "source": [
    "KO.net <- fixGenes(net, \"STAT3\", 0)\n",
    "KO.net"
   ]
  },
  {
   "cell_type": "markdown",
   "metadata": {},
   "source": [
    "When doing this be careful of checking the value of the fixed genes to avoid mistakes. You can see this in network$fixed, if the value is -1 BoolNEt will use the original function, if the value is 0 the node value will always be 0, and if the value is 1 the node value will always be 1."
   ]
  },
  {
   "cell_type": "code",
   "execution_count": 8,
   "metadata": {
    "collapsed": false
   },
   "outputs": [
    {
     "data": {
      "text/html": [
       "<dl class=dl-horizontal>\n",
       "\t<dt>IL2</dt>\n",
       "\t\t<dd>-1</dd>\n",
       "\t<dt>RORGT</dt>\n",
       "\t\t<dd>-1</dd>\n",
       "\t<dt>STAT3</dt>\n",
       "\t\t<dd>0</dd>\n",
       "\t<dt>FOXP3</dt>\n",
       "\t\t<dd>-1</dd>\n",
       "\t<dt>TGFB</dt>\n",
       "\t\t<dd>-1</dd>\n",
       "\t<dt>IL10</dt>\n",
       "\t\t<dd>-1</dd>\n",
       "\t<dt>IL2e</dt>\n",
       "\t\t<dd>-1</dd>\n",
       "\t<dt>IL21e</dt>\n",
       "\t\t<dd>-1</dd>\n",
       "\t<dt>TGFBe</dt>\n",
       "\t\t<dd>-1</dd>\n",
       "\t<dt>IL10e</dt>\n",
       "\t\t<dd>-1</dd>\n",
       "</dl>\n"
      ],
      "text/latex": [
       "\\begin{description*}\n",
       "\\item[IL2] -1\n",
       "\\item[RORGT] -1\n",
       "\\item[STAT3] 0\n",
       "\\item[FOXP3] -1\n",
       "\\item[TGFB] -1\n",
       "\\item[IL10] -1\n",
       "\\item[IL2e] -1\n",
       "\\item[IL21e] -1\n",
       "\\item[TGFBe] -1\n",
       "\\item[IL10e] -1\n",
       "\\end{description*}\n"
      ],
      "text/markdown": [
       "IL2\n",
       ":   -1RORGT\n",
       ":   -1STAT3\n",
       ":   0FOXP3\n",
       ":   -1TGFB\n",
       ":   -1IL10\n",
       ":   -1IL2e\n",
       ":   -1IL21e\n",
       ":   -1TGFBe\n",
       ":   -1IL10e\n",
       ":   -1\n",
       "\n"
      ],
      "text/plain": [
       "  IL2 RORGT STAT3 FOXP3  TGFB  IL10  IL2e IL21e TGFBe IL10e \n",
       "   -1    -1     0    -1    -1    -1    -1    -1    -1    -1 "
      ]
     },
     "execution_count": 8,
     "metadata": {},
     "output_type": "execute_result"
    }
   ],
   "source": [
    "KO.net$fixed"
   ]
  },
  {
   "cell_type": "markdown",
   "metadata": {},
   "source": [
    "Now we will determine the attractors, label them, and save them to a dataframe."
   ]
  },
  {
   "cell_type": "code",
   "execution_count": 9,
   "metadata": {
    "collapsed": false,
    "scrolled": true
   },
   "outputs": [
    {
     "data": {
      "text/html": [
       "<table>\n",
       "<thead><tr><th></th><th scope=col>involvedStates</th><th scope=col>basinSize</th><th scope=col>label</th></tr></thead>\n",
       "<tbody>\n",
       "\t<tr><th scope=row>1</th><td>0</td><td>6</td><td>Th0</td></tr>\n",
       "\t<tr><th scope=row>2</th><td>1</td><td>2</td><td>Th0</td></tr>\n",
       "\t<tr><th scope=row>3</th><td>16</td><td>16</td><td>TGFB+</td></tr>\n",
       "\t<tr><th scope=row>4</th><td>48</td><td>8</td><td>IL10+TGFB+</td></tr>\n",
       "\t<tr><th scope=row>5</th><td>65</td><td>8</td><td>Th0</td></tr>\n",
       "\t<tr><th scope=row>6</th><td>89</td><td>16</td><td>Treg</td></tr>\n",
       "\t<tr><th scope=row>7</th><td>112</td><td>3</td><td>IL10+TGFB+</td></tr>\n",
       "\t<tr><th scope=row>8</th><td>121</td><td>1</td><td>TregIL10+</td></tr>\n",
       "\t<tr><th scope=row>9</th><td>128</td><td>6</td><td>Th0</td></tr>\n",
       "\t<tr><th scope=row>10</th><td>129</td><td>2</td><td>Th0</td></tr>\n",
       "\t<tr><th scope=row>11</th><td>144</td><td>16</td><td>TGFB+</td></tr>\n",
       "\t<tr><th scope=row>12</th><td>176</td><td>8</td><td>IL10+TGFB+</td></tr>\n",
       "\t<tr><th scope=row>13</th><td>193</td><td>8</td><td>Th0</td></tr>\n",
       "\t<tr><th scope=row>14</th><td>217</td><td>16</td><td>Treg</td></tr>\n",
       "\t<tr><th scope=row>15</th><td>240</td><td>3</td><td>IL10+TGFB+</td></tr>\n",
       "\t<tr><th scope=row>16</th><td>249</td><td>1</td><td>TregIL10+</td></tr>\n",
       "\t<tr><th scope=row>17</th><td>272</td><td>24</td><td>TGFB+</td></tr>\n",
       "\t<tr><th scope=row>18</th><td>304</td><td>8</td><td>IL10+TGFB+</td></tr>\n",
       "\t<tr><th scope=row>19</th><td>345</td><td>24</td><td>Treg</td></tr>\n",
       "\t<tr><th scope=row>20</th><td>368</td><td>3</td><td>IL10+TGFB+</td></tr>\n",
       "\t<tr><th scope=row>21</th><td>377</td><td>1</td><td>TregIL10+</td></tr>\n",
       "\t<tr><th scope=row>22</th><td>400</td><td>24</td><td>TGFB+</td></tr>\n",
       "\t<tr><th scope=row>23</th><td>432</td><td>8</td><td>IL10+TGFB+</td></tr>\n",
       "\t<tr><th scope=row>24</th><td>473</td><td>24</td><td>Treg</td></tr>\n",
       "\t<tr><th scope=row>25</th><td>496</td><td>3</td><td>IL10+TGFB+</td></tr>\n",
       "\t<tr><th scope=row>26</th><td>505</td><td>1</td><td>TregIL10+</td></tr>\n",
       "\t<tr><th scope=row>27</th><td>544</td><td>8</td><td>IL10+</td></tr>\n",
       "\t<tr><th scope=row>28</th><td>560</td><td>24</td><td>IL10+TGFB+</td></tr>\n",
       "\t<tr><th scope=row>29</th><td>608</td><td>8</td><td>IL10+</td></tr>\n",
       "\t<tr><th scope=row>30</th><td>633</td><td>5</td><td>TregIL10+</td></tr>\n",
       "\t<tr><th scope=row>31</th><td>624</td><td>3</td><td>IL10+TGFB+</td></tr>\n",
       "\t<tr><th scope=row>32</th><td>672</td><td>8</td><td>IL10+</td></tr>\n",
       "\t<tr><th scope=row>33</th><td>688</td><td>24</td><td>IL10+TGFB+</td></tr>\n",
       "\t<tr><th scope=row>34</th><td>736</td><td>8</td><td>IL10+</td></tr>\n",
       "\t<tr><th scope=row>35</th><td>761</td><td>5</td><td>TregIL10+</td></tr>\n",
       "\t<tr><th scope=row>36</th><td>752</td><td>3</td><td>IL10+TGFB+</td></tr>\n",
       "\t<tr><th scope=row>37</th><td>816</td><td>32</td><td>IL10+TGFB+</td></tr>\n",
       "\t<tr><th scope=row>38</th><td>889</td><td>5</td><td>TregIL10+</td></tr>\n",
       "\t<tr><th scope=row>39</th><td>880</td><td>7</td><td>IL10+TGFB+</td></tr>\n",
       "\t<tr><th scope=row>40</th><td>944</td><td>32</td><td>IL10+TGFB+</td></tr>\n",
       "\t<tr><th scope=row>41</th><td>1017</td><td>5</td><td>TregIL10+</td></tr>\n",
       "\t<tr><th scope=row>42</th><td>1008</td><td>7</td><td>IL10+TGFB+</td></tr>\n",
       "\t<tr><th scope=row>43</th><td>113/120</td><td>4</td><td>IL10+TGFB+/TregIL10+</td></tr>\n",
       "\t<tr><th scope=row>44</th><td>241/248</td><td>4</td><td>IL10+TGFB+/TregIL10+</td></tr>\n",
       "\t<tr><th scope=row>45</th><td>369/376</td><td>4</td><td>IL10+TGFB+/TregIL10+</td></tr>\n",
       "\t<tr><th scope=row>46</th><td>497/504</td><td>4</td><td>IL10+TGFB+/TregIL10+</td></tr>\n",
       "\t<tr><th scope=row>47</th><td>625/632</td><td>16</td><td>IL10+TGFB+/TregIL10+</td></tr>\n",
       "\t<tr><th scope=row>48</th><td>753/760</td><td>16</td><td>IL10+TGFB+/TregIL10+</td></tr>\n",
       "\t<tr><th scope=row>49</th><td>881/888</td><td>20</td><td>IL10+TGFB+/TregIL10+</td></tr>\n",
       "\t<tr><th scope=row>50</th><td>1009/1016</td><td>20</td><td>IL10+TGFB+/TregIL10+</td></tr>\n",
       "</tbody>\n",
       "</table>\n"
      ],
      "text/latex": [
       "\\begin{tabular}{r|lll}\n",
       "  & involvedStates & basinSize & label\\\\\n",
       "\\hline\n",
       "\t1 & 0 & 6 & Th0\\\\\n",
       "\t2 & 1 & 2 & Th0\\\\\n",
       "\t3 & 16 & 16 & TGFB+\\\\\n",
       "\t4 & 48 & 8 & IL10+TGFB+\\\\\n",
       "\t5 & 65 & 8 & Th0\\\\\n",
       "\t6 & 89 & 16 & Treg\\\\\n",
       "\t7 & 112 & 3 & IL10+TGFB+\\\\\n",
       "\t8 & 121 & 1 & TregIL10+\\\\\n",
       "\t9 & 128 & 6 & Th0\\\\\n",
       "\t10 & 129 & 2 & Th0\\\\\n",
       "\t11 & 144 & 16 & TGFB+\\\\\n",
       "\t12 & 176 & 8 & IL10+TGFB+\\\\\n",
       "\t13 & 193 & 8 & Th0\\\\\n",
       "\t14 & 217 & 16 & Treg\\\\\n",
       "\t15 & 240 & 3 & IL10+TGFB+\\\\\n",
       "\t16 & 249 & 1 & TregIL10+\\\\\n",
       "\t17 & 272 & 24 & TGFB+\\\\\n",
       "\t18 & 304 & 8 & IL10+TGFB+\\\\\n",
       "\t19 & 345 & 24 & Treg\\\\\n",
       "\t20 & 368 & 3 & IL10+TGFB+\\\\\n",
       "\t21 & 377 & 1 & TregIL10+\\\\\n",
       "\t22 & 400 & 24 & TGFB+\\\\\n",
       "\t23 & 432 & 8 & IL10+TGFB+\\\\\n",
       "\t24 & 473 & 24 & Treg\\\\\n",
       "\t25 & 496 & 3 & IL10+TGFB+\\\\\n",
       "\t26 & 505 & 1 & TregIL10+\\\\\n",
       "\t27 & 544 & 8 & IL10+\\\\\n",
       "\t28 & 560 & 24 & IL10+TGFB+\\\\\n",
       "\t29 & 608 & 8 & IL10+\\\\\n",
       "\t30 & 633 & 5 & TregIL10+\\\\\n",
       "\t31 & 624 & 3 & IL10+TGFB+\\\\\n",
       "\t32 & 672 & 8 & IL10+\\\\\n",
       "\t33 & 688 & 24 & IL10+TGFB+\\\\\n",
       "\t34 & 736 & 8 & IL10+\\\\\n",
       "\t35 & 761 & 5 & TregIL10+\\\\\n",
       "\t36 & 752 & 3 & IL10+TGFB+\\\\\n",
       "\t37 & 816 & 32 & IL10+TGFB+\\\\\n",
       "\t38 & 889 & 5 & TregIL10+\\\\\n",
       "\t39 & 880 & 7 & IL10+TGFB+\\\\\n",
       "\t40 & 944 & 32 & IL10+TGFB+\\\\\n",
       "\t41 & 1017 & 5 & TregIL10+\\\\\n",
       "\t42 & 1008 & 7 & IL10+TGFB+\\\\\n",
       "\t43 & 113/120 & 4 & IL10+TGFB+/TregIL10+\\\\\n",
       "\t44 & 241/248 & 4 & IL10+TGFB+/TregIL10+\\\\\n",
       "\t45 & 369/376 & 4 & IL10+TGFB+/TregIL10+\\\\\n",
       "\t46 & 497/504 & 4 & IL10+TGFB+/TregIL10+\\\\\n",
       "\t47 & 625/632 & 16 & IL10+TGFB+/TregIL10+\\\\\n",
       "\t48 & 753/760 & 16 & IL10+TGFB+/TregIL10+\\\\\n",
       "\t49 & 881/888 & 20 & IL10+TGFB+/TregIL10+\\\\\n",
       "\t50 & 1009/1016 & 20 & IL10+TGFB+/TregIL10+\\\\\n",
       "\\end{tabular}\n"
      ],
      "text/plain": [
       "   involvedStates basinSize                label\n",
       "1               0         6                  Th0\n",
       "2               1         2                  Th0\n",
       "3              16        16                TGFB+\n",
       "4              48         8           IL10+TGFB+\n",
       "5              65         8                  Th0\n",
       "6              89        16                 Treg\n",
       "7             112         3           IL10+TGFB+\n",
       "8             121         1            TregIL10+\n",
       "9             128         6                  Th0\n",
       "10            129         2                  Th0\n",
       "11            144        16                TGFB+\n",
       "12            176         8           IL10+TGFB+\n",
       "13            193         8                  Th0\n",
       "14            217        16                 Treg\n",
       "15            240         3           IL10+TGFB+\n",
       "16            249         1            TregIL10+\n",
       "17            272        24                TGFB+\n",
       "18            304         8           IL10+TGFB+\n",
       "19            345        24                 Treg\n",
       "20            368         3           IL10+TGFB+\n",
       "21            377         1            TregIL10+\n",
       "22            400        24                TGFB+\n",
       "23            432         8           IL10+TGFB+\n",
       "24            473        24                 Treg\n",
       "25            496         3           IL10+TGFB+\n",
       "26            505         1            TregIL10+\n",
       "27            544         8                IL10+\n",
       "28            560        24           IL10+TGFB+\n",
       "29            608         8                IL10+\n",
       "30            633         5            TregIL10+\n",
       "31            624         3           IL10+TGFB+\n",
       "32            672         8                IL10+\n",
       "33            688        24           IL10+TGFB+\n",
       "34            736         8                IL10+\n",
       "35            761         5            TregIL10+\n",
       "36            752         3           IL10+TGFB+\n",
       "37            816        32           IL10+TGFB+\n",
       "38            889         5            TregIL10+\n",
       "39            880         7           IL10+TGFB+\n",
       "40            944        32           IL10+TGFB+\n",
       "41           1017         5            TregIL10+\n",
       "42           1008         7           IL10+TGFB+\n",
       "43        113/120         4 IL10+TGFB+/TregIL10+\n",
       "44        241/248         4 IL10+TGFB+/TregIL10+\n",
       "45        369/376         4 IL10+TGFB+/TregIL10+\n",
       "46        497/504         4 IL10+TGFB+/TregIL10+\n",
       "47        625/632        16 IL10+TGFB+/TregIL10+\n",
       "48        753/760        16 IL10+TGFB+/TregIL10+\n",
       "49        881/888        20 IL10+TGFB+/TregIL10+\n",
       "50      1009/1016        20 IL10+TGFB+/TregIL10+"
      ]
     },
     "execution_count": 9,
     "metadata": {},
     "output_type": "execute_result"
    }
   ],
   "source": [
    "KO.attr <- getAttractors(KO.net)\n",
    "KO.attr.df <- attractor2dataframe(KO.attr) \n",
    "KO.labels <- labelAttractors(KO.attr, net$genes, labels.rules$labels, labels.rules$rules)\n",
    "KO.attr.df$label <- sapply(KO.labels, function(label) {\n",
    "    paste(as.character(label), collapse='/')\n",
    "})\n",
    "KO.attr.df"
   ]
  },
  {
   "cell_type": "markdown",
   "metadata": {},
   "source": [
    "We  can also simulate overexpressions, where the value of STAT3 will always be 1. This would be equivalent to having the STAT3 pathway constitutionally active.\n",
    "\n",
    "We will create the network, determine the attractors, label them and present them as a dataframe."
   ]
  },
  {
   "cell_type": "code",
   "execution_count": 11,
   "metadata": {
    "collapsed": false
   },
   "outputs": [
    {
     "data": {
      "text/html": [
       "<table>\n",
       "<thead><tr><th></th><th scope=col>involvedStates</th><th scope=col>basinSize</th><th scope=col>label</th></tr></thead>\n",
       "<tbody>\n",
       "\t<tr><th scope=row>1</th><td>4</td><td>16</td><td>Th0</td></tr>\n",
       "\t<tr><th scope=row>2</th><td>36</td><td>16</td><td>IL10+</td></tr>\n",
       "\t<tr><th scope=row>3</th><td>68</td><td>16</td><td>Th0</td></tr>\n",
       "\t<tr><th scope=row>4</th><td>100</td><td>16</td><td>IL10+</td></tr>\n",
       "\t<tr><th scope=row>5</th><td>132</td><td>16</td><td>Th0</td></tr>\n",
       "\t<tr><th scope=row>6</th><td>164</td><td>16</td><td>IL10+</td></tr>\n",
       "\t<tr><th scope=row>7</th><td>196</td><td>16</td><td>Th0</td></tr>\n",
       "\t<tr><th scope=row>8</th><td>228</td><td>16</td><td>IL10+</td></tr>\n",
       "\t<tr><th scope=row>9</th><td>278</td><td>16</td><td>Th17</td></tr>\n",
       "\t<tr><th scope=row>10</th><td>310</td><td>16</td><td>Th17IL10+</td></tr>\n",
       "\t<tr><th scope=row>11</th><td>342</td><td>16</td><td>Th17</td></tr>\n",
       "\t<tr><th scope=row>12</th><td>374</td><td>16</td><td>Th17IL10+</td></tr>\n",
       "\t<tr><th scope=row>13</th><td>406</td><td>16</td><td>Th17</td></tr>\n",
       "\t<tr><th scope=row>14</th><td>438</td><td>16</td><td>Th17IL10+</td></tr>\n",
       "\t<tr><th scope=row>15</th><td>470</td><td>16</td><td>Th17</td></tr>\n",
       "\t<tr><th scope=row>16</th><td>502</td><td>16</td><td>Th17IL10+</td></tr>\n",
       "\t<tr><th scope=row>17</th><td>548</td><td>32</td><td>IL10+</td></tr>\n",
       "\t<tr><th scope=row>18</th><td>612</td><td>32</td><td>IL10+</td></tr>\n",
       "\t<tr><th scope=row>19</th><td>676</td><td>32</td><td>IL10+</td></tr>\n",
       "\t<tr><th scope=row>20</th><td>740</td><td>32</td><td>IL10+</td></tr>\n",
       "\t<tr><th scope=row>21</th><td>822</td><td>32</td><td>Th17IL10+</td></tr>\n",
       "\t<tr><th scope=row>22</th><td>886</td><td>32</td><td>Th17IL10+</td></tr>\n",
       "\t<tr><th scope=row>23</th><td>950</td><td>32</td><td>Th17IL10+</td></tr>\n",
       "\t<tr><th scope=row>24</th><td>1014</td><td>32</td><td>Th17IL10+</td></tr>\n",
       "</tbody>\n",
       "</table>\n"
      ],
      "text/latex": [
       "\\begin{tabular}{r|lll}\n",
       "  & involvedStates & basinSize & label\\\\\n",
       "\\hline\n",
       "\t1 & 4 & 16 & Th0\\\\\n",
       "\t2 & 36 & 16 & IL10+\\\\\n",
       "\t3 & 68 & 16 & Th0\\\\\n",
       "\t4 & 100 & 16 & IL10+\\\\\n",
       "\t5 & 132 & 16 & Th0\\\\\n",
       "\t6 & 164 & 16 & IL10+\\\\\n",
       "\t7 & 196 & 16 & Th0\\\\\n",
       "\t8 & 228 & 16 & IL10+\\\\\n",
       "\t9 & 278 & 16 & Th17\\\\\n",
       "\t10 & 310 & 16 & Th17IL10+\\\\\n",
       "\t11 & 342 & 16 & Th17\\\\\n",
       "\t12 & 374 & 16 & Th17IL10+\\\\\n",
       "\t13 & 406 & 16 & Th17\\\\\n",
       "\t14 & 438 & 16 & Th17IL10+\\\\\n",
       "\t15 & 470 & 16 & Th17\\\\\n",
       "\t16 & 502 & 16 & Th17IL10+\\\\\n",
       "\t17 & 548 & 32 & IL10+\\\\\n",
       "\t18 & 612 & 32 & IL10+\\\\\n",
       "\t19 & 676 & 32 & IL10+\\\\\n",
       "\t20 & 740 & 32 & IL10+\\\\\n",
       "\t21 & 822 & 32 & Th17IL10+\\\\\n",
       "\t22 & 886 & 32 & Th17IL10+\\\\\n",
       "\t23 & 950 & 32 & Th17IL10+\\\\\n",
       "\t24 & 1014 & 32 & Th17IL10+\\\\\n",
       "\\end{tabular}\n"
      ],
      "text/plain": [
       "   involvedStates basinSize     label\n",
       "1               4        16       Th0\n",
       "2              36        16     IL10+\n",
       "3              68        16       Th0\n",
       "4             100        16     IL10+\n",
       "5             132        16       Th0\n",
       "6             164        16     IL10+\n",
       "7             196        16       Th0\n",
       "8             228        16     IL10+\n",
       "9             278        16      Th17\n",
       "10            310        16 Th17IL10+\n",
       "11            342        16      Th17\n",
       "12            374        16 Th17IL10+\n",
       "13            406        16      Th17\n",
       "14            438        16 Th17IL10+\n",
       "15            470        16      Th17\n",
       "16            502        16 Th17IL10+\n",
       "17            548        32     IL10+\n",
       "18            612        32     IL10+\n",
       "19            676        32     IL10+\n",
       "20            740        32     IL10+\n",
       "21            822        32 Th17IL10+\n",
       "22            886        32 Th17IL10+\n",
       "23            950        32 Th17IL10+\n",
       "24           1014        32 Th17IL10+"
      ]
     },
     "execution_count": 11,
     "metadata": {},
     "output_type": "execute_result"
    }
   ],
   "source": [
    "Over.net <- fixGenes(net, \"STAT3\", 1)\n",
    "Over.attr <- getAttractors(Over.net)\n",
    "Over.attr.df <- attractor2dataframe(Over.attr) \n",
    "Over.labels <- labelAttractors(Over.attr, net$genes, labels.rules$labels, labels.rules$rules)\n",
    "Over.attr.df$label <- sapply(Over.labels, function(label) {\n",
    "    paste(as.character(label), collapse='/')\n",
    "})\n",
    "Over.attr.df"
   ]
  },
  {
   "cell_type": "markdown",
   "metadata": {},
   "source": [
    "Now we can compare the three networks. Lets begin by seeing the cell types that where recovered in each network."
   ]
  },
  {
   "cell_type": "code",
   "execution_count": 12,
   "metadata": {
    "collapsed": false
   },
   "outputs": [
    {
     "data": {
      "text/html": [
       "<ol class=list-inline>\n",
       "\t<li>'Th0'</li>\n",
       "\t<li>'TGFB+'</li>\n",
       "\t<li>'IL10+TGFB+'</li>\n",
       "\t<li>'Treg'</li>\n",
       "\t<li>'TregIL10+'</li>\n",
       "\t<li>'Th17'</li>\n",
       "\t<li>'IL10+'</li>\n",
       "\t<li>'IL10+TGFB+/TregIL10+'</li>\n",
       "\t<li>'Th0/Th0'</li>\n",
       "\t<li>'RORGT+/TGFB+'</li>\n",
       "</ol>\n"
      ],
      "text/latex": [
       "\\begin{enumerate*}\n",
       "\\item 'Th0'\n",
       "\\item 'TGFB+'\n",
       "\\item 'IL10+TGFB+'\n",
       "\\item 'Treg'\n",
       "\\item 'TregIL10+'\n",
       "\\item 'Th17'\n",
       "\\item 'IL10+'\n",
       "\\item 'IL10+TGFB+/TregIL10+'\n",
       "\\item 'Th0/Th0'\n",
       "\\item 'RORGT+/TGFB+'\n",
       "\\end{enumerate*}\n"
      ],
      "text/markdown": [
       "1. 'Th0'\n",
       "2. 'TGFB+'\n",
       "3. 'IL10+TGFB+'\n",
       "4. 'Treg'\n",
       "5. 'TregIL10+'\n",
       "6. 'Th17'\n",
       "7. 'IL10+'\n",
       "8. 'IL10+TGFB+/TregIL10+'\n",
       "9. 'Th0/Th0'\n",
       "10. 'RORGT+/TGFB+'\n",
       "\n",
       "\n"
      ],
      "text/plain": [
       " [1] \"Th0\"                  \"TGFB+\"                \"IL10+TGFB+\"          \n",
       " [4] \"Treg\"                 \"TregIL10+\"            \"Th17\"                \n",
       " [7] \"IL10+\"                \"IL10+TGFB+/TregIL10+\" \"Th0/Th0\"             \n",
       "[10] \"RORGT+/TGFB+\"        "
      ]
     },
     "execution_count": 12,
     "metadata": {},
     "output_type": "execute_result"
    },
    {
     "data": {
      "text/html": [
       "<ol class=list-inline>\n",
       "\t<li>'Th0'</li>\n",
       "\t<li>'TGFB+'</li>\n",
       "\t<li>'IL10+TGFB+'</li>\n",
       "\t<li>'Treg'</li>\n",
       "\t<li>'TregIL10+'</li>\n",
       "\t<li>'IL10+'</li>\n",
       "\t<li>'IL10+TGFB+/TregIL10+'</li>\n",
       "</ol>\n"
      ],
      "text/latex": [
       "\\begin{enumerate*}\n",
       "\\item 'Th0'\n",
       "\\item 'TGFB+'\n",
       "\\item 'IL10+TGFB+'\n",
       "\\item 'Treg'\n",
       "\\item 'TregIL10+'\n",
       "\\item 'IL10+'\n",
       "\\item 'IL10+TGFB+/TregIL10+'\n",
       "\\end{enumerate*}\n"
      ],
      "text/markdown": [
       "1. 'Th0'\n",
       "2. 'TGFB+'\n",
       "3. 'IL10+TGFB+'\n",
       "4. 'Treg'\n",
       "5. 'TregIL10+'\n",
       "6. 'IL10+'\n",
       "7. 'IL10+TGFB+/TregIL10+'\n",
       "\n",
       "\n"
      ],
      "text/plain": [
       "[1] \"Th0\"                  \"TGFB+\"                \"IL10+TGFB+\"          \n",
       "[4] \"Treg\"                 \"TregIL10+\"            \"IL10+\"               \n",
       "[7] \"IL10+TGFB+/TregIL10+\""
      ]
     },
     "execution_count": 12,
     "metadata": {},
     "output_type": "execute_result"
    },
    {
     "data": {
      "text/html": [
       "<ol class=list-inline>\n",
       "\t<li>'Th0'</li>\n",
       "\t<li>'IL10+'</li>\n",
       "\t<li>'Th17'</li>\n",
       "\t<li>'Th17IL10+'</li>\n",
       "</ol>\n"
      ],
      "text/latex": [
       "\\begin{enumerate*}\n",
       "\\item 'Th0'\n",
       "\\item 'IL10+'\n",
       "\\item 'Th17'\n",
       "\\item 'Th17IL10+'\n",
       "\\end{enumerate*}\n"
      ],
      "text/markdown": [
       "1. 'Th0'\n",
       "2. 'IL10+'\n",
       "3. 'Th17'\n",
       "4. 'Th17IL10+'\n",
       "\n",
       "\n"
      ],
      "text/plain": [
       "[1] \"Th0\"       \"IL10+\"     \"Th17\"      \"Th17IL10+\""
      ]
     },
     "execution_count": 12,
     "metadata": {},
     "output_type": "execute_result"
    }
   ],
   "source": [
    "unique(WT.attr.df$label)\n",
    "unique(KO.attr.df$label)\n",
    "unique(Over.attr.df$label)"
   ]
  },
  {
   "cell_type": "markdown",
   "metadata": {},
   "source": [
    "We can also see which attractors where won or lost in our mutants. \n",
    "In the case of the STAT3$^{KO}$ we lost the Th17 attractor and some cycles."
   ]
  },
  {
   "cell_type": "code",
   "execution_count": 14,
   "metadata": {
    "collapsed": false
   },
   "outputs": [
    {
     "data": {
      "text/html": [
       "<ol class=list-inline>\n",
       "\t<li>'Th17'</li>\n",
       "\t<li>'Th0/Th0'</li>\n",
       "\t<li>'RORGT+/TGFB+'</li>\n",
       "</ol>\n"
      ],
      "text/latex": [
       "\\begin{enumerate*}\n",
       "\\item 'Th17'\n",
       "\\item 'Th0/Th0'\n",
       "\\item 'RORGT+/TGFB+'\n",
       "\\end{enumerate*}\n"
      ],
      "text/markdown": [
       "1. 'Th17'\n",
       "2. 'Th0/Th0'\n",
       "3. 'RORGT+/TGFB+'\n",
       "\n",
       "\n"
      ],
      "text/plain": [
       "[1] \"Th17\"         \"Th0/Th0\"      \"RORGT+/TGFB+\""
      ]
     },
     "execution_count": 14,
     "metadata": {},
     "output_type": "execute_result"
    },
    {
     "data": {
      "text/html": [],
      "text/latex": [],
      "text/markdown": [],
      "text/plain": [
       "character(0)"
      ]
     },
     "execution_count": 14,
     "metadata": {},
     "output_type": "execute_result"
    }
   ],
   "source": [
    "setdiff(WT.attr.df$label,KO.attr.df$label)\n",
    "setdiff(KO.attr.df$label,WT.attr.df$label)"
   ]
  },
  {
   "cell_type": "markdown",
   "metadata": {},
   "source": [
    "In the case of the STAT3$^{OverExpression}$ we lost most of the regulatory attractors and some cycles. We also won a Th17IL1"
   ]
  },
  {
   "cell_type": "code",
   "execution_count": 15,
   "metadata": {
    "collapsed": false
   },
   "outputs": [
    {
     "data": {
      "text/html": [
       "<ol class=list-inline>\n",
       "\t<li>'TGFB+'</li>\n",
       "\t<li>'IL10+TGFB+'</li>\n",
       "\t<li>'Treg'</li>\n",
       "\t<li>'TregIL10+'</li>\n",
       "\t<li>'IL10+TGFB+/TregIL10+'</li>\n",
       "\t<li>'Th0/Th0'</li>\n",
       "\t<li>'RORGT+/TGFB+'</li>\n",
       "</ol>\n"
      ],
      "text/latex": [
       "\\begin{enumerate*}\n",
       "\\item 'TGFB+'\n",
       "\\item 'IL10+TGFB+'\n",
       "\\item 'Treg'\n",
       "\\item 'TregIL10+'\n",
       "\\item 'IL10+TGFB+/TregIL10+'\n",
       "\\item 'Th0/Th0'\n",
       "\\item 'RORGT+/TGFB+'\n",
       "\\end{enumerate*}\n"
      ],
      "text/markdown": [
       "1. 'TGFB+'\n",
       "2. 'IL10+TGFB+'\n",
       "3. 'Treg'\n",
       "4. 'TregIL10+'\n",
       "5. 'IL10+TGFB+/TregIL10+'\n",
       "6. 'Th0/Th0'\n",
       "7. 'RORGT+/TGFB+'\n",
       "\n",
       "\n"
      ],
      "text/plain": [
       "[1] \"TGFB+\"                \"IL10+TGFB+\"           \"Treg\"                \n",
       "[4] \"TregIL10+\"            \"IL10+TGFB+/TregIL10+\" \"Th0/Th0\"             \n",
       "[7] \"RORGT+/TGFB+\"        "
      ]
     },
     "execution_count": 15,
     "metadata": {},
     "output_type": "execute_result"
    },
    {
     "data": {
      "text/html": [
       "'Th17IL10+'"
      ],
      "text/latex": [
       "'Th17IL10+'"
      ],
      "text/markdown": [
       "'Th17IL10+'"
      ],
      "text/plain": [
       "[1] \"Th17IL10+\""
      ]
     },
     "execution_count": 15,
     "metadata": {},
     "output_type": "execute_result"
    }
   ],
   "source": [
    "setdiff(WT.attr.df$label,Over.attr.df$label)\n",
    "setdiff(Over.attr.df$label,WT.attr.df$label)"
   ]
  },
  {
   "cell_type": "markdown",
   "metadata": {},
   "source": [
    "## Fixed environments\n",
    "\n",
    "The state of a network usually depends in external factors, that can be modeles as inputs. It is possible to simulate the change from one environment to an other by fixing the input nodes to simulate the different environments\\cite{Thieffry}. In this section we will study the effect of permanetly changing the environment of a cell type, we will discuss the effect of [transient perturbations later](./RPRN-States.ipynb)."
   ]
  },
  {
   "cell_type": "markdown",
   "metadata": {},
   "source": [
    "## Truth tables\n",
    "\n",
    "Trough evolution the regulatory interactions of an organism can change. For example, the regulatory sequence of a gene can be altered or a new element can be added (or lost)\\cite{Carlos???}. However, this changes can also occur during the life of an organism: changes in the epigenetic marks, disordered domain proteins, and alternate spliccing can alter the regulatory functions\\cite{Newman2014}. Finally, it is possible that there are mistakes in the construction of the network.\n",
    "\n",
    "This changes usually affect only part of the regulatory function. Verifing the robustness of the attractors in response to small changes in the functions is fundamental for validating the network and for understanding the evolvability of biological systems."
   ]
  },
  {
   "cell_type": "markdown",
   "metadata": {},
   "source": [
    "# Next\n",
    "\n",
    "* [Introduction](./RPRN-Introduction.ipynb)\n",
    "* [BoolNet](./RPRN-BoolNet.ipynb)\n",
    "* Functions\n",
    "* [Updating](./RPRN-Updating.ipynb)\n",
    "* [States](./RPRN-States.ipynb)\n",
    "* [Appendix](./RPRN-Appendix.ipynb)"
   ]
  }
 ],
 "metadata": {
  "kernelspec": {
   "display_name": "R",
   "language": "R",
   "name": "ir"
  },
  "language_info": {
   "codemirror_mode": "r",
   "file_extension": ".r",
   "mimetype": "text/x-r-source",
   "name": "R",
   "pygments_lexer": "r",
   "version": "3.2.2"
  }
 },
 "nbformat": 4,
 "nbformat_minor": 0
}
