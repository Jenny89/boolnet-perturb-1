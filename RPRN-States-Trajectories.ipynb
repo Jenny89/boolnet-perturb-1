{
 "cells": [
  {
   "cell_type": "markdown",
   "metadata": {},
   "source": [
    "# Robustness and Plasticity in Regulatory Networks\n",
    "\n",
    "* [Introduction](./RPRN-Introduction.ipynb)\n",
    "* [BoolNet](./RPRN-BoolNet.ipynb)\n",
    "* [Functions](./RPRN-Functions.ipynb)\n",
    "* [Updating](./RPRN-Updating.ipynb)\n",
    "* [States and trajectories](#States-and-Trajectories)\n",
    "    * [Transient perturbations](#Transient-perturbations)\n",
    "    * [Stochastic noise](#Stochastic-noise)\n",
    "* [Appendix](./RPRN-Appendix.ipynb)"
   ]
  },
  {
   "cell_type": "markdown",
   "metadata": {},
   "source": [
    "# States and Trajectories"
   ]
  },
  {
   "cell_type": "code",
   "execution_count": 1,
   "metadata": {
    "collapsed": true
   },
   "outputs": [],
   "source": [
    "#Uncomment next line if you haven't installed BoolNet\n",
    "#install.packages(\"BoolNet\", repos='http://cran.us.r-project.org')\n",
    "library(BoolNet)\n",
    "source(\"./BoolNet-extensions.R\")"
   ]
  },
  {
   "cell_type": "markdown",
   "metadata": {},
   "source": [
    "## Transient perturbations"
   ]
  },
  {
   "cell_type": "markdown",
   "metadata": {},
   "source": [
    "## Stochastic noise"
   ]
  },
  {
   "cell_type": "markdown",
   "metadata": {},
   "source": [
    "# Index\n",
    "\n",
    "* [Introduction](./RPRN-Introduction.ipynb)\n",
    "* [BoolNet](./RPRN-BoolNet.ipynb)\n",
    "* [Functions](./RPRN-Functions.ipynb)\n",
    "* [Updating](./RPRN-Updating.ipynb)\n",
    "* States and trajectories\n",
    "* [Appendix](./RPRN-Appendix.ipynb)"
   ]
  }
 ],
 "metadata": {
  "kernelspec": {
   "display_name": "R",
   "language": "R",
   "name": "ir"
  },
  "language_info": {
   "codemirror_mode": "r",
   "file_extension": ".r",
   "mimetype": "text/x-r-source",
   "name": "R",
   "pygments_lexer": "r",
   "version": "3.2.2"
  }
 },
 "nbformat": 4,
 "nbformat_minor": 0
}
